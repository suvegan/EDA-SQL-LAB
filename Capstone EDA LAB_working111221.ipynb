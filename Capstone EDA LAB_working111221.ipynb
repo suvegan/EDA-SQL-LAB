{
 "cells": [
  {
   "cell_type": "markdown",
   "metadata": {},
   "source": [
    "<center>\n",
    "    <img src=\"https://s3-api.us-geo.objectstorage.softlayer.net/cf-courses-data/CognitiveClass/Logos/organization_logo/organization_logo.png\" width=\"1000\" alt=\"cognitiveclass.ai logo\"  />\n",
    "</center>\n",
    "\n",
    "# Assignment: Exploratory Data Analysis with SQL\n",
    "\n",
    "Estimated time needed: 60 minutes\n",
    "\n",
    "# Introduction\n",
    "\n",
    "Using this R notebook you will perform exploratory data analysis tasks using SQL queries with the RODBC R package. You will not be graded here, but you will be asked to present some of these results in your final assignment, where you will be graded on the accuracy of your results as well as the content of your SQL queries.\n"
   ]
  },
  {
   "cell_type": "markdown",
   "metadata": {},
   "source": [
    "### Establish your Db2 connection\n",
    "\n",
    "Load the 'RODBC' library, and use the 'odbcConnect( )' function as you did in the previous lab to establish the connection to your Db2 assets.\\\n",
    "Provided you successfully loaded your data into the tables in that lab, you are now ready to start running SQL queries using the RODBC library as you did in Course 3.\n"
   ]
  },
  {
   "cell_type": "code",
   "execution_count": 1,
   "metadata": {},
   "outputs": [],
   "source": [
    "library(RODBC)"
   ]
  },
  {
   "cell_type": "code",
   "execution_count": 2,
   "metadata": {},
   "outputs": [],
   "source": [
    "# provide your solution here\n",
    "dsn_driver <- \"{IBM DB2 ODBC Driver}\"\n",
    "dsn_database <- \"bludb\"            # e.g. \"bludb\"\n",
    "dsn_hostname <- \"55fbc997-9266-4331-afd3-888b05e734c0.bs2io90l08kqb1od8lcg.databases.appdomain.cloud\" # e.g \"54a2f15b-5c0f-46df-8954-.databases.appdomain.cloud\"\n",
    "dsn_port <- \"31929\"   # e.g. \"32733\" \n",
    "dsn_protocol <- \"TCPIP\"            # i.e. \"TCPIP\"\n",
    "dsn_uid <- \"hqd74609\"        # e.g. \"zjh17769\"\n",
    "dsn_pwd <- \"xjxeRZKZkTZftWJV\"      # e.g. \"zcwd4+8gbq9bm5k4\"  \n",
    "dsn_security <- \"ssl\""
   ]
  },
  {
   "cell_type": "code",
   "execution_count": 3,
   "metadata": {},
   "outputs": [
    {
     "data": {
      "text/plain": [
       "RODBC Connection 1\n",
       "Details:\n",
       "  case=nochange\n",
       "  DRIVER={IBM DB2 ODBC DRIVER}\n",
       "  UID=hqd74609\n",
       "  PWD=******\n",
       "  DATABASE=bludb\n",
       "  HOSTNAME=55fbc997-9266-4331-afd3-888b05e734c0.bs2io90l08kqb1od8lcg.databases.appdomain.cloud\n",
       "  PORT=31929\n",
       "  PROTOCOL=TCPIP\n",
       "  SECURITY=SSL"
      ]
     },
     "metadata": {},
     "output_type": "display_data"
    }
   ],
   "source": [
    "conn_path <- paste(\"DRIVER=\",dsn_driver,\n",
    "                  \";DATABASE=\",dsn_database,\n",
    "                  \";HOSTNAME=\",dsn_hostname,\n",
    "                  \";PORT=\",dsn_port,\n",
    "                  \";PROTOCOL=\",dsn_protocol,\n",
    "                  \";UID=\",dsn_uid,\n",
    "                  \";PWD=\",dsn_pwd,\n",
    "                  \";SECURITY=\",dsn_security,        \n",
    "                    sep=\"\")\n",
    "conn <- odbcDriverConnect(conn_path)\n",
    "conn"
   ]
  },
  {
   "cell_type": "code",
   "execution_count": 4,
   "metadata": {},
   "outputs": [
    {
     "data": {
      "text/html": [
       "<strong>DBMS_Name:</strong> 'DB2/LINUXX8664'"
      ],
      "text/latex": [
       "\\textbf{DBMS\\textbackslash{}\\_Name:} 'DB2/LINUXX8664'"
      ],
      "text/markdown": [
       "**DBMS_Name:** 'DB2/LINUXX8664'"
      ],
      "text/plain": [
       "       DBMS_Name \n",
       "\"DB2/LINUXX8664\" "
      ]
     },
     "metadata": {},
     "output_type": "display_data"
    },
    {
     "data": {
      "text/html": [
       "<strong>DBMS_Ver:</strong> '11.05.0600'"
      ],
      "text/latex": [
       "\\textbf{DBMS\\textbackslash{}\\_Ver:} '11.05.0600'"
      ],
      "text/markdown": [
       "**DBMS_Ver:** '11.05.0600'"
      ],
      "text/plain": [
       "    DBMS_Ver \n",
       "\"11.05.0600\" "
      ]
     },
     "metadata": {},
     "output_type": "display_data"
    },
    {
     "data": {
      "text/html": [
       "<strong>Driver_ODBC_Ver:</strong> '03.51'"
      ],
      "text/latex": [
       "\\textbf{Driver\\textbackslash{}\\_ODBC\\textbackslash{}\\_Ver:} '03.51'"
      ],
      "text/markdown": [
       "**Driver_ODBC_Ver:** '03.51'"
      ],
      "text/plain": [
       "Driver_ODBC_Ver \n",
       "        \"03.51\" "
      ]
     },
     "metadata": {},
     "output_type": "display_data"
    }
   ],
   "source": [
    "#View database and driver information\n",
    "sql.info <- sqlTypeInfo(conn)\n",
    "conn.info <- odbcGetInfo(conn)\n",
    "conn.info[\"DBMS_Name\"]\n",
    "conn.info[\"DBMS_Ver\"]\n",
    "conn.info[\"Driver_ODBC_Ver\"]"
   ]
  },
  {
   "cell_type": "code",
   "execution_count": 5,
   "metadata": {},
   "outputs": [
    {
     "data": {
      "text/html": [
       "<table>\n",
       "<caption>A data.frame: 2 × 14</caption>\n",
       "<thead>\n",
       "\t<tr><th></th><th scope=col>DATE</th><th scope=col>RENTED_BIKE_COUNT</th><th scope=col>HOUR</th><th scope=col>TEMPERATURE</th><th scope=col>HUMIDITY</th><th scope=col>WIND_SPEED</th><th scope=col>VISIBILITY</th><th scope=col>DEW_POINT_TEMPERATURE</th><th scope=col>SOLAR_RADIATION</th><th scope=col>RAINFALL</th><th scope=col>SNOWFALL</th><th scope=col>SEASONS</th><th scope=col>HOLIDAY</th><th scope=col>FUNCTIONING_DAY</th></tr>\n",
       "\t<tr><th></th><th scope=col>&lt;fct&gt;</th><th scope=col>&lt;int&gt;</th><th scope=col>&lt;int&gt;</th><th scope=col>&lt;dbl&gt;</th><th scope=col>&lt;int&gt;</th><th scope=col>&lt;dbl&gt;</th><th scope=col>&lt;int&gt;</th><th scope=col>&lt;dbl&gt;</th><th scope=col>&lt;dbl&gt;</th><th scope=col>&lt;dbl&gt;</th><th scope=col>&lt;dbl&gt;</th><th scope=col>&lt;fct&gt;</th><th scope=col>&lt;fct&gt;</th><th scope=col>&lt;fct&gt;</th></tr>\n",
       "</thead>\n",
       "<tbody>\n",
       "\t<tr><th scope=row>1</th><td>01/12/2017</td><td>254</td><td>0</td><td>-5.2</td><td>37</td><td>2.2</td><td>2000</td><td>-17.6</td><td>0</td><td>0</td><td>0</td><td>Winter</td><td>No Holiday</td><td>Yes</td></tr>\n",
       "\t<tr><th scope=row>2</th><td>01/12/2017</td><td>204</td><td>1</td><td>-5.5</td><td>38</td><td>0.8</td><td>2000</td><td>-17.6</td><td>0</td><td>0</td><td>0</td><td>Winter</td><td>No Holiday</td><td>Yes</td></tr>\n",
       "</tbody>\n",
       "</table>\n"
      ],
      "text/latex": [
       "A data.frame: 2 × 14\n",
       "\\begin{tabular}{r|llllllllllllll}\n",
       "  & DATE & RENTED\\_BIKE\\_COUNT & HOUR & TEMPERATURE & HUMIDITY & WIND\\_SPEED & VISIBILITY & DEW\\_POINT\\_TEMPERATURE & SOLAR\\_RADIATION & RAINFALL & SNOWFALL & SEASONS & HOLIDAY & FUNCTIONING\\_DAY\\\\\n",
       "  & <fct> & <int> & <int> & <dbl> & <int> & <dbl> & <int> & <dbl> & <dbl> & <dbl> & <dbl> & <fct> & <fct> & <fct>\\\\\n",
       "\\hline\n",
       "\t1 & 01/12/2017 & 254 & 0 & -5.2 & 37 & 2.2 & 2000 & -17.6 & 0 & 0 & 0 & Winter & No Holiday & Yes\\\\\n",
       "\t2 & 01/12/2017 & 204 & 1 & -5.5 & 38 & 0.8 & 2000 & -17.6 & 0 & 0 & 0 & Winter & No Holiday & Yes\\\\\n",
       "\\end{tabular}\n"
      ],
      "text/markdown": [
       "\n",
       "A data.frame: 2 × 14\n",
       "\n",
       "| <!--/--> | DATE &lt;fct&gt; | RENTED_BIKE_COUNT &lt;int&gt; | HOUR &lt;int&gt; | TEMPERATURE &lt;dbl&gt; | HUMIDITY &lt;int&gt; | WIND_SPEED &lt;dbl&gt; | VISIBILITY &lt;int&gt; | DEW_POINT_TEMPERATURE &lt;dbl&gt; | SOLAR_RADIATION &lt;dbl&gt; | RAINFALL &lt;dbl&gt; | SNOWFALL &lt;dbl&gt; | SEASONS &lt;fct&gt; | HOLIDAY &lt;fct&gt; | FUNCTIONING_DAY &lt;fct&gt; |\n",
       "|---|---|---|---|---|---|---|---|---|---|---|---|---|---|---|\n",
       "| 1 | 01/12/2017 | 254 | 0 | -5.2 | 37 | 2.2 | 2000 | -17.6 | 0 | 0 | 0 | Winter | No Holiday | Yes |\n",
       "| 2 | 01/12/2017 | 204 | 1 | -5.5 | 38 | 0.8 | 2000 | -17.6 | 0 | 0 | 0 | Winter | No Holiday | Yes |\n",
       "\n"
      ],
      "text/plain": [
       "  DATE       RENTED_BIKE_COUNT HOUR TEMPERATURE HUMIDITY WIND_SPEED VISIBILITY\n",
       "1 01/12/2017 254               0    -5.2        37       2.2        2000      \n",
       "2 01/12/2017 204               1    -5.5        38       0.8        2000      \n",
       "  DEW_POINT_TEMPERATURE SOLAR_RADIATION RAINFALL SNOWFALL SEASONS HOLIDAY   \n",
       "1 -17.6                 0               0        0        Winter  No Holiday\n",
       "2 -17.6                 0               0        0        Winter  No Holiday\n",
       "  FUNCTIONING_DAY\n",
       "1 Yes            \n",
       "2 Yes            "
      ]
     },
     "metadata": {},
     "output_type": "display_data"
    },
    {
     "data": {
      "text/html": [
       "<table>\n",
       "<caption>A data.frame: 2 × 14</caption>\n",
       "<thead>\n",
       "\t<tr><th></th><th scope=col>DATE</th><th scope=col>RENTED_BIKE_COUNT</th><th scope=col>HOUR</th><th scope=col>TEMPERATURE</th><th scope=col>HUMIDITY</th><th scope=col>WIND_SPEED</th><th scope=col>VISIBILITY</th><th scope=col>DEW_POINT_TEMPERATURE</th><th scope=col>SOLAR_RADIATION</th><th scope=col>RAINFALL</th><th scope=col>SNOWFALL</th><th scope=col>SEASONS</th><th scope=col>HOLIDAY</th><th scope=col>FUNCTIONING_DAY</th></tr>\n",
       "\t<tr><th></th><th scope=col>&lt;fct&gt;</th><th scope=col>&lt;int&gt;</th><th scope=col>&lt;int&gt;</th><th scope=col>&lt;dbl&gt;</th><th scope=col>&lt;int&gt;</th><th scope=col>&lt;dbl&gt;</th><th scope=col>&lt;int&gt;</th><th scope=col>&lt;dbl&gt;</th><th scope=col>&lt;dbl&gt;</th><th scope=col>&lt;dbl&gt;</th><th scope=col>&lt;dbl&gt;</th><th scope=col>&lt;fct&gt;</th><th scope=col>&lt;fct&gt;</th><th scope=col>&lt;fct&gt;</th></tr>\n",
       "</thead>\n",
       "<tbody>\n",
       "\t<tr><th scope=row>8464</th><td>30/11/2018</td><td>712</td><td>22</td><td>2.1</td><td>41</td><td>1.0</td><td>1859</td><td>-9.8</td><td>0</td><td>0</td><td>0</td><td>Autumn</td><td>No Holiday</td><td>Yes</td></tr>\n",
       "\t<tr><th scope=row>8465</th><td>30/11/2018</td><td>584</td><td>23</td><td>1.9</td><td>43</td><td>1.3</td><td>1909</td><td>-9.3</td><td>0</td><td>0</td><td>0</td><td>Autumn</td><td>No Holiday</td><td>Yes</td></tr>\n",
       "</tbody>\n",
       "</table>\n"
      ],
      "text/latex": [
       "A data.frame: 2 × 14\n",
       "\\begin{tabular}{r|llllllllllllll}\n",
       "  & DATE & RENTED\\_BIKE\\_COUNT & HOUR & TEMPERATURE & HUMIDITY & WIND\\_SPEED & VISIBILITY & DEW\\_POINT\\_TEMPERATURE & SOLAR\\_RADIATION & RAINFALL & SNOWFALL & SEASONS & HOLIDAY & FUNCTIONING\\_DAY\\\\\n",
       "  & <fct> & <int> & <int> & <dbl> & <int> & <dbl> & <int> & <dbl> & <dbl> & <dbl> & <dbl> & <fct> & <fct> & <fct>\\\\\n",
       "\\hline\n",
       "\t8464 & 30/11/2018 & 712 & 22 & 2.1 & 41 & 1.0 & 1859 & -9.8 & 0 & 0 & 0 & Autumn & No Holiday & Yes\\\\\n",
       "\t8465 & 30/11/2018 & 584 & 23 & 1.9 & 43 & 1.3 & 1909 & -9.3 & 0 & 0 & 0 & Autumn & No Holiday & Yes\\\\\n",
       "\\end{tabular}\n"
      ],
      "text/markdown": [
       "\n",
       "A data.frame: 2 × 14\n",
       "\n",
       "| <!--/--> | DATE &lt;fct&gt; | RENTED_BIKE_COUNT &lt;int&gt; | HOUR &lt;int&gt; | TEMPERATURE &lt;dbl&gt; | HUMIDITY &lt;int&gt; | WIND_SPEED &lt;dbl&gt; | VISIBILITY &lt;int&gt; | DEW_POINT_TEMPERATURE &lt;dbl&gt; | SOLAR_RADIATION &lt;dbl&gt; | RAINFALL &lt;dbl&gt; | SNOWFALL &lt;dbl&gt; | SEASONS &lt;fct&gt; | HOLIDAY &lt;fct&gt; | FUNCTIONING_DAY &lt;fct&gt; |\n",
       "|---|---|---|---|---|---|---|---|---|---|---|---|---|---|---|\n",
       "| 8464 | 30/11/2018 | 712 | 22 | 2.1 | 41 | 1.0 | 1859 | -9.8 | 0 | 0 | 0 | Autumn | No Holiday | Yes |\n",
       "| 8465 | 30/11/2018 | 584 | 23 | 1.9 | 43 | 1.3 | 1909 | -9.3 | 0 | 0 | 0 | Autumn | No Holiday | Yes |\n",
       "\n"
      ],
      "text/plain": [
       "     DATE       RENTED_BIKE_COUNT HOUR TEMPERATURE HUMIDITY WIND_SPEED\n",
       "8464 30/11/2018 712               22   2.1         41       1.0       \n",
       "8465 30/11/2018 584               23   1.9         43       1.3       \n",
       "     VISIBILITY DEW_POINT_TEMPERATURE SOLAR_RADIATION RAINFALL SNOWFALL SEASONS\n",
       "8464 1859       -9.8                  0               0        0        Autumn \n",
       "8465 1909       -9.3                  0               0        0        Autumn \n",
       "     HOLIDAY    FUNCTIONING_DAY\n",
       "8464 No Holiday Yes            \n",
       "8465 No Holiday Yes            "
      ]
     },
     "metadata": {},
     "output_type": "display_data"
    },
    {
     "data": {
      "text/html": [
       "8465"
      ],
      "text/latex": [
       "8465"
      ],
      "text/markdown": [
       "8465"
      ],
      "text/plain": [
       "[1] 8465"
      ]
     },
     "metadata": {},
     "output_type": "display_data"
    }
   ],
   "source": [
    "seoul_bike_sharing_dset<- sqlFetch(conn, \"SEOUL_BIKE_SHARING\")\n",
    "head(seoul_bike_sharing_dset,2)\n",
    "tail(seoul_bike_sharing_dset,2)\n",
    "nrow(seoul_bike_sharing_dset)"
   ]
  },
  {
   "cell_type": "code",
   "execution_count": 10,
   "metadata": {},
   "outputs": [
    {
     "data": {
      "text/html": [
       "<table>\n",
       "<caption>A data.frame: 2 × 11</caption>\n",
       "<thead>\n",
       "\t<tr><th></th><th scope=col>CITY</th><th scope=col>CITY_ASCII</th><th scope=col>LAT</th><th scope=col>LNG</th><th scope=col>COUNTRY</th><th scope=col>ISO2</th><th scope=col>ISO3</th><th scope=col>ADMIN_NAME</th><th scope=col>CAPITAL</th><th scope=col>POPULATION</th><th scope=col>ID</th></tr>\n",
       "\t<tr><th></th><th scope=col>&lt;fct&gt;</th><th scope=col>&lt;fct&gt;</th><th scope=col>&lt;dbl&gt;</th><th scope=col>&lt;dbl&gt;</th><th scope=col>&lt;fct&gt;</th><th scope=col>&lt;fct&gt;</th><th scope=col>&lt;fct&gt;</th><th scope=col>&lt;fct&gt;</th><th scope=col>&lt;fct&gt;</th><th scope=col>&lt;int&gt;</th><th scope=col>&lt;int&gt;</th></tr>\n",
       "</thead>\n",
       "<tbody>\n",
       "\t<tr><th scope=row>1</th><td>Tokyo  </td><td>Tokyo  </td><td>35.68</td><td>139.69</td><td>Japan    </td><td>JP</td><td>JPN</td><td>Tōkyō  </td><td>primary</td><td>37977000</td><td>1392685764</td></tr>\n",
       "\t<tr><th scope=row>2</th><td>Jakarta</td><td>Jakarta</td><td>-6.21</td><td>106.84</td><td>Indonesia</td><td>ID</td><td>IDN</td><td>Jakarta</td><td>primary</td><td>34540000</td><td>1360771077</td></tr>\n",
       "</tbody>\n",
       "</table>\n"
      ],
      "text/latex": [
       "A data.frame: 2 × 11\n",
       "\\begin{tabular}{r|lllllllllll}\n",
       "  & CITY & CITY\\_ASCII & LAT & LNG & COUNTRY & ISO2 & ISO3 & ADMIN\\_NAME & CAPITAL & POPULATION & ID\\\\\n",
       "  & <fct> & <fct> & <dbl> & <dbl> & <fct> & <fct> & <fct> & <fct> & <fct> & <int> & <int>\\\\\n",
       "\\hline\n",
       "\t1 & Tokyo   & Tokyo   & 35.68 & 139.69 & Japan     & JP & JPN & Tōkyō   & primary & 37977000 & 1392685764\\\\\n",
       "\t2 & Jakarta & Jakarta & -6.21 & 106.84 & Indonesia & ID & IDN & Jakarta & primary & 34540000 & 1360771077\\\\\n",
       "\\end{tabular}\n"
      ],
      "text/markdown": [
       "\n",
       "A data.frame: 2 × 11\n",
       "\n",
       "| <!--/--> | CITY &lt;fct&gt; | CITY_ASCII &lt;fct&gt; | LAT &lt;dbl&gt; | LNG &lt;dbl&gt; | COUNTRY &lt;fct&gt; | ISO2 &lt;fct&gt; | ISO3 &lt;fct&gt; | ADMIN_NAME &lt;fct&gt; | CAPITAL &lt;fct&gt; | POPULATION &lt;int&gt; | ID &lt;int&gt; |\n",
       "|---|---|---|---|---|---|---|---|---|---|---|---|\n",
       "| 1 | Tokyo   | Tokyo   | 35.68 | 139.69 | Japan     | JP | JPN | Tōkyō   | primary | 37977000 | 1392685764 |\n",
       "| 2 | Jakarta | Jakarta | -6.21 | 106.84 | Indonesia | ID | IDN | Jakarta | primary | 34540000 | 1360771077 |\n",
       "\n"
      ],
      "text/plain": [
       "  CITY    CITY_ASCII LAT   LNG    COUNTRY   ISO2 ISO3 ADMIN_NAME CAPITAL\n",
       "1 Tokyo   Tokyo      35.68 139.69 Japan     JP   JPN  Tōkyō      primary\n",
       "2 Jakarta Jakarta    -6.21 106.84 Indonesia ID   IDN  Jakarta    primary\n",
       "  POPULATION ID        \n",
       "1 37977000   1392685764\n",
       "2 34540000   1360771077"
      ]
     },
     "metadata": {},
     "output_type": "display_data"
    },
    {
     "data": {
      "text/html": [
       "26569"
      ],
      "text/latex": [
       "26569"
      ],
      "text/markdown": [
       "26569"
      ],
      "text/plain": [
       "[1] 26569"
      ]
     },
     "metadata": {},
     "output_type": "display_data"
    }
   ],
   "source": [
    "world_cities_dset<- sqlFetch(conn, \"WORLD_CITIES\")\n",
    "head(world_cities_dset,2)\n",
    "nrow(world_cities_dset)"
   ]
  },
  {
   "cell_type": "code",
   "execution_count": 12,
   "metadata": {},
   "outputs": [
    {
     "data": {
      "text/html": [
       "<table>\n",
       "<caption>A data.frame: 2 × 4</caption>\n",
       "<thead>\n",
       "\t<tr><th></th><th scope=col>COUNTRY</th><th scope=col>CITY</th><th scope=col>SYSTEM</th><th scope=col>BICYCLES</th></tr>\n",
       "\t<tr><th></th><th scope=col>&lt;fct&gt;</th><th scope=col>&lt;fct&gt;</th><th scope=col>&lt;fct&gt;</th><th scope=col>&lt;int&gt;</th></tr>\n",
       "</thead>\n",
       "<tbody>\n",
       "\t<tr><th scope=row>1</th><td>Albania  </td><td>Tirana </td><td>NA</td><td>200</td></tr>\n",
       "\t<tr><th scope=row>2</th><td>Argentina</td><td>Mendoza</td><td>NA</td><td> 40</td></tr>\n",
       "</tbody>\n",
       "</table>\n"
      ],
      "text/latex": [
       "A data.frame: 2 × 4\n",
       "\\begin{tabular}{r|llll}\n",
       "  & COUNTRY & CITY & SYSTEM & BICYCLES\\\\\n",
       "  & <fct> & <fct> & <fct> & <int>\\\\\n",
       "\\hline\n",
       "\t1 & Albania   & Tirana  & NA & 200\\\\\n",
       "\t2 & Argentina & Mendoza & NA &  40\\\\\n",
       "\\end{tabular}\n"
      ],
      "text/markdown": [
       "\n",
       "A data.frame: 2 × 4\n",
       "\n",
       "| <!--/--> | COUNTRY &lt;fct&gt; | CITY &lt;fct&gt; | SYSTEM &lt;fct&gt; | BICYCLES &lt;int&gt; |\n",
       "|---|---|---|---|---|\n",
       "| 1 | Albania   | Tirana  | NA | 200 |\n",
       "| 2 | Argentina | Mendoza | NA |  40 |\n",
       "\n"
      ],
      "text/plain": [
       "  COUNTRY   CITY    SYSTEM BICYCLES\n",
       "1 Albania   Tirana  NA     200     \n",
       "2 Argentina Mendoza NA      40     "
      ]
     },
     "metadata": {},
     "output_type": "display_data"
    },
    {
     "data": {
      "text/html": [
       "480"
      ],
      "text/latex": [
       "480"
      ],
      "text/markdown": [
       "480"
      ],
      "text/plain": [
       "[1] 480"
      ]
     },
     "metadata": {},
     "output_type": "display_data"
    }
   ],
   "source": [
    "bike_sharing_systems_dset<- sqlFetch(conn, \"BIKE_SHARING_SYSTEMS\")\n",
    "head(bike_sharing_systems_dset,2)\n",
    "nrow(bike_sharing_systems_dset) "
   ]
  },
  {
   "cell_type": "code",
   "execution_count": 13,
   "metadata": {},
   "outputs": [
    {
     "data": {
      "text/html": [
       "<table>\n",
       "<caption>A data.frame: 2 × 12</caption>\n",
       "<thead>\n",
       "\t<tr><th></th><th scope=col>CITY</th><th scope=col>WEATHER</th><th scope=col>VISIBILITY</th><th scope=col>TEMP</th><th scope=col>TEMP_MIN</th><th scope=col>TEMP_MAX</th><th scope=col>PRESSURE</th><th scope=col>HUMIDITY</th><th scope=col>WIND_SPEED</th><th scope=col>WIND_DEG</th><th scope=col>SEASON</th><th scope=col>FORECAST_DATETIME</th></tr>\n",
       "\t<tr><th></th><th scope=col>&lt;fct&gt;</th><th scope=col>&lt;fct&gt;</th><th scope=col>&lt;int&gt;</th><th scope=col>&lt;dbl&gt;</th><th scope=col>&lt;dbl&gt;</th><th scope=col>&lt;dbl&gt;</th><th scope=col>&lt;int&gt;</th><th scope=col>&lt;int&gt;</th><th scope=col>&lt;dbl&gt;</th><th scope=col>&lt;int&gt;</th><th scope=col>&lt;fct&gt;</th><th scope=col>&lt;dttm&gt;</th></tr>\n",
       "</thead>\n",
       "<tbody>\n",
       "\t<tr><th scope=row>1</th><td>Seoul</td><td>Clear</td><td>10000</td><td>12.32</td><td>10.91</td><td>12.32</td><td>1015</td><td>50</td><td>2.18</td><td>248</td><td>Spring</td><td>2021-04-16 12:00:00</td></tr>\n",
       "\t<tr><th scope=row>2</th><td>Seoul</td><td>Clear</td><td>10000</td><td>11.48</td><td> 9.81</td><td>11.48</td><td>1016</td><td>48</td><td>1.25</td><td>142</td><td>Spring</td><td>2021-04-16 15:00:00</td></tr>\n",
       "</tbody>\n",
       "</table>\n"
      ],
      "text/latex": [
       "A data.frame: 2 × 12\n",
       "\\begin{tabular}{r|llllllllllll}\n",
       "  & CITY & WEATHER & VISIBILITY & TEMP & TEMP\\_MIN & TEMP\\_MAX & PRESSURE & HUMIDITY & WIND\\_SPEED & WIND\\_DEG & SEASON & FORECAST\\_DATETIME\\\\\n",
       "  & <fct> & <fct> & <int> & <dbl> & <dbl> & <dbl> & <int> & <int> & <dbl> & <int> & <fct> & <dttm>\\\\\n",
       "\\hline\n",
       "\t1 & Seoul & Clear & 10000 & 12.32 & 10.91 & 12.32 & 1015 & 50 & 2.18 & 248 & Spring & 2021-04-16 12:00:00\\\\\n",
       "\t2 & Seoul & Clear & 10000 & 11.48 &  9.81 & 11.48 & 1016 & 48 & 1.25 & 142 & Spring & 2021-04-16 15:00:00\\\\\n",
       "\\end{tabular}\n"
      ],
      "text/markdown": [
       "\n",
       "A data.frame: 2 × 12\n",
       "\n",
       "| <!--/--> | CITY &lt;fct&gt; | WEATHER &lt;fct&gt; | VISIBILITY &lt;int&gt; | TEMP &lt;dbl&gt; | TEMP_MIN &lt;dbl&gt; | TEMP_MAX &lt;dbl&gt; | PRESSURE &lt;int&gt; | HUMIDITY &lt;int&gt; | WIND_SPEED &lt;dbl&gt; | WIND_DEG &lt;int&gt; | SEASON &lt;fct&gt; | FORECAST_DATETIME &lt;dttm&gt; |\n",
       "|---|---|---|---|---|---|---|---|---|---|---|---|---|\n",
       "| 1 | Seoul | Clear | 10000 | 12.32 | 10.91 | 12.32 | 1015 | 50 | 2.18 | 248 | Spring | 2021-04-16 12:00:00 |\n",
       "| 2 | Seoul | Clear | 10000 | 11.48 |  9.81 | 11.48 | 1016 | 48 | 1.25 | 142 | Spring | 2021-04-16 15:00:00 |\n",
       "\n"
      ],
      "text/plain": [
       "  CITY  WEATHER VISIBILITY TEMP  TEMP_MIN TEMP_MAX PRESSURE HUMIDITY WIND_SPEED\n",
       "1 Seoul Clear   10000      12.32 10.91    12.32    1015     50       2.18      \n",
       "2 Seoul Clear   10000      11.48  9.81    11.48    1016     48       1.25      \n",
       "  WIND_DEG SEASON FORECAST_DATETIME  \n",
       "1 248      Spring 2021-04-16 12:00:00\n",
       "2 142      Spring 2021-04-16 15:00:00"
      ]
     },
     "metadata": {},
     "output_type": "display_data"
    },
    {
     "data": {
      "text/html": [
       "160"
      ],
      "text/latex": [
       "160"
      ],
      "text/markdown": [
       "160"
      ],
      "text/plain": [
       "[1] 160"
      ]
     },
     "metadata": {},
     "output_type": "display_data"
    }
   ],
   "source": [
    "cities_weather_forecast_dset<- sqlFetch(conn,\"CITIES_WEATHER_FORECAST\")\n",
    "head(cities_weather_forecast_dset,2)\n",
    "nrow(cities_weather_forecast_dset) "
   ]
  },
  {
   "cell_type": "markdown",
   "metadata": {},
   "source": [
    "## Task 1 - Record Count\n",
    "\n",
    "#### Determine how many records are in the seoul_bike_sharing dataset.\n"
   ]
  },
  {
   "cell_type": "markdown",
   "metadata": {},
   "source": [
    "### Solution 1\n"
   ]
  },
  {
   "cell_type": "code",
   "execution_count": 7,
   "metadata": {
    "scrolled": true
   },
   "outputs": [
    {
     "data": {
      "text/html": [
       "8465"
      ],
      "text/latex": [
       "8465"
      ],
      "text/markdown": [
       "8465"
      ],
      "text/plain": [
       "[1] 8465"
      ]
     },
     "metadata": {},
     "output_type": "display_data"
    },
    {
     "data": {
      "text/html": [
       "<table>\n",
       "<caption>A data.frame: 1 × 14</caption>\n",
       "<thead>\n",
       "\t<tr><th></th><th scope=col>DATE</th><th scope=col>RENTED_BIKE_COUNT</th><th scope=col>HOUR</th><th scope=col>TEMPERATURE</th><th scope=col>HUMIDITY</th><th scope=col>WIND_SPEED</th><th scope=col>VISIBILITY</th><th scope=col>DEW_POINT_TEMPERATURE</th><th scope=col>SOLAR_RADIATION</th><th scope=col>RAINFALL</th><th scope=col>SNOWFALL</th><th scope=col>SEASONS</th><th scope=col>HOLIDAY</th><th scope=col>FUNCTIONING_DAY</th></tr>\n",
       "\t<tr><th></th><th scope=col>&lt;fct&gt;</th><th scope=col>&lt;int&gt;</th><th scope=col>&lt;int&gt;</th><th scope=col>&lt;dbl&gt;</th><th scope=col>&lt;int&gt;</th><th scope=col>&lt;dbl&gt;</th><th scope=col>&lt;int&gt;</th><th scope=col>&lt;dbl&gt;</th><th scope=col>&lt;dbl&gt;</th><th scope=col>&lt;dbl&gt;</th><th scope=col>&lt;dbl&gt;</th><th scope=col>&lt;fct&gt;</th><th scope=col>&lt;fct&gt;</th><th scope=col>&lt;fct&gt;</th></tr>\n",
       "</thead>\n",
       "<tbody>\n",
       "\t<tr><th scope=row>8465</th><td>30/11/2018</td><td>584</td><td>23</td><td>1.9</td><td>43</td><td>1.3</td><td>1909</td><td>-9.3</td><td>0</td><td>0</td><td>0</td><td>Autumn</td><td>No Holiday</td><td>Yes</td></tr>\n",
       "</tbody>\n",
       "</table>\n"
      ],
      "text/latex": [
       "A data.frame: 1 × 14\n",
       "\\begin{tabular}{r|llllllllllllll}\n",
       "  & DATE & RENTED\\_BIKE\\_COUNT & HOUR & TEMPERATURE & HUMIDITY & WIND\\_SPEED & VISIBILITY & DEW\\_POINT\\_TEMPERATURE & SOLAR\\_RADIATION & RAINFALL & SNOWFALL & SEASONS & HOLIDAY & FUNCTIONING\\_DAY\\\\\n",
       "  & <fct> & <int> & <int> & <dbl> & <int> & <dbl> & <int> & <dbl> & <dbl> & <dbl> & <dbl> & <fct> & <fct> & <fct>\\\\\n",
       "\\hline\n",
       "\t8465 & 30/11/2018 & 584 & 23 & 1.9 & 43 & 1.3 & 1909 & -9.3 & 0 & 0 & 0 & Autumn & No Holiday & Yes\\\\\n",
       "\\end{tabular}\n"
      ],
      "text/markdown": [
       "\n",
       "A data.frame: 1 × 14\n",
       "\n",
       "| <!--/--> | DATE &lt;fct&gt; | RENTED_BIKE_COUNT &lt;int&gt; | HOUR &lt;int&gt; | TEMPERATURE &lt;dbl&gt; | HUMIDITY &lt;int&gt; | WIND_SPEED &lt;dbl&gt; | VISIBILITY &lt;int&gt; | DEW_POINT_TEMPERATURE &lt;dbl&gt; | SOLAR_RADIATION &lt;dbl&gt; | RAINFALL &lt;dbl&gt; | SNOWFALL &lt;dbl&gt; | SEASONS &lt;fct&gt; | HOLIDAY &lt;fct&gt; | FUNCTIONING_DAY &lt;fct&gt; |\n",
       "|---|---|---|---|---|---|---|---|---|---|---|---|---|---|---|\n",
       "| 8465 | 30/11/2018 | 584 | 23 | 1.9 | 43 | 1.3 | 1909 | -9.3 | 0 | 0 | 0 | Autumn | No Holiday | Yes |\n",
       "\n"
      ],
      "text/plain": [
       "     DATE       RENTED_BIKE_COUNT HOUR TEMPERATURE HUMIDITY WIND_SPEED\n",
       "8465 30/11/2018 584               23   1.9         43       1.3       \n",
       "     VISIBILITY DEW_POINT_TEMPERATURE SOLAR_RADIATION RAINFALL SNOWFALL SEASONS\n",
       "8465 1909       -9.3                  0               0        0        Autumn \n",
       "     HOLIDAY    FUNCTIONING_DAY\n",
       "8465 No Holiday Yes            "
      ]
     },
     "metadata": {},
     "output_type": "display_data"
    }
   ],
   "source": [
    "# provide your solution here\n",
    "seoul_bike_sharing_dset<- sqlFetch(conn, \"SEOUL_BIKE_SHARING\")\n",
    "nrow(seoul_bike_sharing_dset)\n",
    "tail(seoul_bike_sharing_dset,1)\n",
    "\n"
   ]
  },
  {
   "cell_type": "markdown",
   "metadata": {},
   "source": [
    "## Task 2 - Operational Hours\n",
    "\n",
    "#### Determine how many hours had non-zero rented bike count.\n"
   ]
  },
  {
   "cell_type": "markdown",
   "metadata": {},
   "source": [
    "### Solution 2\n"
   ]
  },
  {
   "cell_type": "code",
   "execution_count": 28,
   "metadata": {
    "scrolled": true
   },
   "outputs": [
    {
     "data": {
      "text/html": [
       "<table>\n",
       "<caption>A data.frame: 1 × 1</caption>\n",
       "<thead>\n",
       "\t<tr><th></th><th scope=col>1</th></tr>\n",
       "\t<tr><th></th><th scope=col>&lt;int&gt;</th></tr>\n",
       "</thead>\n",
       "<tbody>\n",
       "\t<tr><th scope=row>1</th><td>8465</td></tr>\n",
       "</tbody>\n",
       "</table>\n"
      ],
      "text/latex": [
       "A data.frame: 1 × 1\n",
       "\\begin{tabular}{r|l}\n",
       "  & 1\\\\\n",
       "  & <int>\\\\\n",
       "\\hline\n",
       "\t1 & 8465\\\\\n",
       "\\end{tabular}\n"
      ],
      "text/markdown": [
       "\n",
       "A data.frame: 1 × 1\n",
       "\n",
       "| <!--/--> | 1 &lt;int&gt; |\n",
       "|---|---|\n",
       "| 1 | 8465 |\n",
       "\n"
      ],
      "text/plain": [
       "  1   \n",
       "1 8465"
      ]
     },
     "metadata": {},
     "output_type": "display_data"
    },
    {
     "data": {
      "text/html": [
       "<table>\n",
       "<caption>A data.frame: 1 × 1</caption>\n",
       "<thead>\n",
       "\t<tr><th></th><th scope=col>1</th></tr>\n",
       "\t<tr><th></th><th scope=col>&lt;int&gt;</th></tr>\n",
       "</thead>\n",
       "<tbody>\n",
       "\t<tr><th scope=row>1</th><td>0</td></tr>\n",
       "</tbody>\n",
       "</table>\n"
      ],
      "text/latex": [
       "A data.frame: 1 × 1\n",
       "\\begin{tabular}{r|l}\n",
       "  & 1\\\\\n",
       "  & <int>\\\\\n",
       "\\hline\n",
       "\t1 & 0\\\\\n",
       "\\end{tabular}\n"
      ],
      "text/markdown": [
       "\n",
       "A data.frame: 1 × 1\n",
       "\n",
       "| <!--/--> | 1 &lt;int&gt; |\n",
       "|---|---|\n",
       "| 1 | 0 |\n",
       "\n"
      ],
      "text/plain": [
       "  1\n",
       "1 0"
      ]
     },
     "metadata": {},
     "output_type": "display_data"
    },
    {
     "data": {
      "text/html": [
       "<table>\n",
       "<caption>A data.frame: 1 × 1</caption>\n",
       "<thead>\n",
       "\t<tr><th></th><th scope=col>1</th></tr>\n",
       "\t<tr><th></th><th scope=col>&lt;int&gt;</th></tr>\n",
       "</thead>\n",
       "<tbody>\n",
       "\t<tr><th scope=row>1</th><td>353</td></tr>\n",
       "</tbody>\n",
       "</table>\n"
      ],
      "text/latex": [
       "A data.frame: 1 × 1\n",
       "\\begin{tabular}{r|l}\n",
       "  & 1\\\\\n",
       "  & <int>\\\\\n",
       "\\hline\n",
       "\t1 & 353\\\\\n",
       "\\end{tabular}\n"
      ],
      "text/markdown": [
       "\n",
       "A data.frame: 1 × 1\n",
       "\n",
       "| <!--/--> | 1 &lt;int&gt; |\n",
       "|---|---|\n",
       "| 1 | 353 |\n",
       "\n"
      ],
      "text/plain": [
       "  1  \n",
       "1 353"
      ]
     },
     "metadata": {},
     "output_type": "display_data"
    },
    {
     "data": {
      "text/html": [
       "<table>\n",
       "<caption>A data.frame: 1 × 1</caption>\n",
       "<thead>\n",
       "\t<tr><th></th><th scope=col>1</th></tr>\n",
       "\t<tr><th></th><th scope=col>&lt;int&gt;</th></tr>\n",
       "</thead>\n",
       "<tbody>\n",
       "\t<tr><th scope=row>1</th><td>0</td></tr>\n",
       "</tbody>\n",
       "</table>\n"
      ],
      "text/latex": [
       "A data.frame: 1 × 1\n",
       "\\begin{tabular}{r|l}\n",
       "  & 1\\\\\n",
       "  & <int>\\\\\n",
       "\\hline\n",
       "\t1 & 0\\\\\n",
       "\\end{tabular}\n"
      ],
      "text/markdown": [
       "\n",
       "A data.frame: 1 × 1\n",
       "\n",
       "| <!--/--> | 1 &lt;int&gt; |\n",
       "|---|---|\n",
       "| 1 | 0 |\n",
       "\n"
      ],
      "text/plain": [
       "  1\n",
       "1 0"
      ]
     },
     "metadata": {},
     "output_type": "display_data"
    }
   ],
   "source": [
    "# provide your solution here\n",
    "sqlQuery ( conn, \"SELECT count(HOUR) from SEOUL_BIKE_SHARING WHERE RENTED_BIKE_COUNT != '0';\")\n",
    "sqlQuery ( conn, \"SELECT count(HOUR) from SEOUL_BIKE_SHARING WHERE RENTED_BIKE_COUNT = '0';\")\n",
    "sqlQuery ( conn, \"SELECT COUNT (DISTINCT(DATE)) from SEOUL_BIKE_SHARING WHERE RENTED_BIKE_COUNT!= '0';\")\n",
    "sqlQuery ( conn, \"SELECT COUNT (DISTINCT(DATE)) from SEOUL_BIKE_SHARING WHERE RENTED_BIKE_COUNT= '0';\")"
   ]
  },
  {
   "cell_type": "markdown",
   "metadata": {},
   "source": [
    "## Task 3 - Weather Outlook\n",
    "\n",
    "#### Query the the weather forecast for Seoul over the next 3 hours.\n",
    "\n",
    "Recall that the records in the CITIES_WEATHER_FORECAST dataset are 3 hours apart, so we just need the first record from the query.\n"
   ]
  },
  {
   "cell_type": "markdown",
   "metadata": {},
   "source": [
    "### Solution 3\n"
   ]
  },
  {
   "cell_type": "code",
   "execution_count": 29,
   "metadata": {},
   "outputs": [
    {
     "data": {
      "text/html": [
       "<table>\n",
       "<caption>A data.frame: 2 × 12</caption>\n",
       "<thead>\n",
       "\t<tr><th></th><th scope=col>CITY</th><th scope=col>WEATHER</th><th scope=col>VISIBILITY</th><th scope=col>TEMP</th><th scope=col>TEMP_MIN</th><th scope=col>TEMP_MAX</th><th scope=col>PRESSURE</th><th scope=col>HUMIDITY</th><th scope=col>WIND_SPEED</th><th scope=col>WIND_DEG</th><th scope=col>SEASON</th><th scope=col>FORECAST_DATETIME</th></tr>\n",
       "\t<tr><th></th><th scope=col>&lt;fct&gt;</th><th scope=col>&lt;fct&gt;</th><th scope=col>&lt;int&gt;</th><th scope=col>&lt;dbl&gt;</th><th scope=col>&lt;dbl&gt;</th><th scope=col>&lt;dbl&gt;</th><th scope=col>&lt;int&gt;</th><th scope=col>&lt;int&gt;</th><th scope=col>&lt;dbl&gt;</th><th scope=col>&lt;int&gt;</th><th scope=col>&lt;fct&gt;</th><th scope=col>&lt;dttm&gt;</th></tr>\n",
       "</thead>\n",
       "<tbody>\n",
       "\t<tr><th scope=row>1</th><td>Seoul</td><td>Clear</td><td>10000</td><td>12.32</td><td>10.91</td><td>12.32</td><td>1015</td><td>50</td><td>2.18</td><td>248</td><td>Spring</td><td>2021-04-16 12:00:00</td></tr>\n",
       "\t<tr><th scope=row>2</th><td>Seoul</td><td>Clear</td><td>10000</td><td>11.48</td><td> 9.81</td><td>11.48</td><td>1016</td><td>48</td><td>1.25</td><td>142</td><td>Spring</td><td>2021-04-16 15:00:00</td></tr>\n",
       "</tbody>\n",
       "</table>\n"
      ],
      "text/latex": [
       "A data.frame: 2 × 12\n",
       "\\begin{tabular}{r|llllllllllll}\n",
       "  & CITY & WEATHER & VISIBILITY & TEMP & TEMP\\_MIN & TEMP\\_MAX & PRESSURE & HUMIDITY & WIND\\_SPEED & WIND\\_DEG & SEASON & FORECAST\\_DATETIME\\\\\n",
       "  & <fct> & <fct> & <int> & <dbl> & <dbl> & <dbl> & <int> & <int> & <dbl> & <int> & <fct> & <dttm>\\\\\n",
       "\\hline\n",
       "\t1 & Seoul & Clear & 10000 & 12.32 & 10.91 & 12.32 & 1015 & 50 & 2.18 & 248 & Spring & 2021-04-16 12:00:00\\\\\n",
       "\t2 & Seoul & Clear & 10000 & 11.48 &  9.81 & 11.48 & 1016 & 48 & 1.25 & 142 & Spring & 2021-04-16 15:00:00\\\\\n",
       "\\end{tabular}\n"
      ],
      "text/markdown": [
       "\n",
       "A data.frame: 2 × 12\n",
       "\n",
       "| <!--/--> | CITY &lt;fct&gt; | WEATHER &lt;fct&gt; | VISIBILITY &lt;int&gt; | TEMP &lt;dbl&gt; | TEMP_MIN &lt;dbl&gt; | TEMP_MAX &lt;dbl&gt; | PRESSURE &lt;int&gt; | HUMIDITY &lt;int&gt; | WIND_SPEED &lt;dbl&gt; | WIND_DEG &lt;int&gt; | SEASON &lt;fct&gt; | FORECAST_DATETIME &lt;dttm&gt; |\n",
       "|---|---|---|---|---|---|---|---|---|---|---|---|---|\n",
       "| 1 | Seoul | Clear | 10000 | 12.32 | 10.91 | 12.32 | 1015 | 50 | 2.18 | 248 | Spring | 2021-04-16 12:00:00 |\n",
       "| 2 | Seoul | Clear | 10000 | 11.48 |  9.81 | 11.48 | 1016 | 48 | 1.25 | 142 | Spring | 2021-04-16 15:00:00 |\n",
       "\n"
      ],
      "text/plain": [
       "  CITY  WEATHER VISIBILITY TEMP  TEMP_MIN TEMP_MAX PRESSURE HUMIDITY WIND_SPEED\n",
       "1 Seoul Clear   10000      12.32 10.91    12.32    1015     50       2.18      \n",
       "2 Seoul Clear   10000      11.48  9.81    11.48    1016     48       1.25      \n",
       "  WIND_DEG SEASON FORECAST_DATETIME  \n",
       "1 248      Spring 2021-04-16 12:00:00\n",
       "2 142      Spring 2021-04-16 15:00:00"
      ]
     },
     "metadata": {},
     "output_type": "display_data"
    }
   ],
   "source": [
    "# provide your solution here\n",
    "cities_weather_forecast_dset<- sqlFetch(conn,\"CITIES_WEATHER_FORECAST\")\n",
    "head(cities_weather_forecast_dset,2)"
   ]
  },
  {
   "cell_type": "markdown",
   "metadata": {},
   "source": [
    "## Task 4 - Seasons\n",
    "\n",
    "#### Find which seasons are included in the seoul bike sharing dataset.\n"
   ]
  },
  {
   "cell_type": "markdown",
   "metadata": {},
   "source": [
    "### Solution 4\n"
   ]
  },
  {
   "cell_type": "code",
   "execution_count": 30,
   "metadata": {},
   "outputs": [
    {
     "data": {
      "text/html": [
       "<table>\n",
       "<caption>A data.frame: 4 × 1</caption>\n",
       "<thead>\n",
       "\t<tr><th></th><th scope=col>SEASONS</th></tr>\n",
       "\t<tr><th></th><th scope=col>&lt;fct&gt;</th></tr>\n",
       "</thead>\n",
       "<tbody>\n",
       "\t<tr><th scope=row>1</th><td>Autumn</td></tr>\n",
       "\t<tr><th scope=row>2</th><td>Spring</td></tr>\n",
       "\t<tr><th scope=row>3</th><td>Summer</td></tr>\n",
       "\t<tr><th scope=row>4</th><td>Winter</td></tr>\n",
       "</tbody>\n",
       "</table>\n"
      ],
      "text/latex": [
       "A data.frame: 4 × 1\n",
       "\\begin{tabular}{r|l}\n",
       "  & SEASONS\\\\\n",
       "  & <fct>\\\\\n",
       "\\hline\n",
       "\t1 & Autumn\\\\\n",
       "\t2 & Spring\\\\\n",
       "\t3 & Summer\\\\\n",
       "\t4 & Winter\\\\\n",
       "\\end{tabular}\n"
      ],
      "text/markdown": [
       "\n",
       "A data.frame: 4 × 1\n",
       "\n",
       "| <!--/--> | SEASONS &lt;fct&gt; |\n",
       "|---|---|\n",
       "| 1 | Autumn |\n",
       "| 2 | Spring |\n",
       "| 3 | Summer |\n",
       "| 4 | Winter |\n",
       "\n"
      ],
      "text/plain": [
       "  SEASONS\n",
       "1 Autumn \n",
       "2 Spring \n",
       "3 Summer \n",
       "4 Winter "
      ]
     },
     "metadata": {},
     "output_type": "display_data"
    }
   ],
   "source": [
    "# provide your solution here\n",
    "sqlQuery ( conn, \"SELECT DISTINCT(SEASONS) from SEOUL_BIKE_SHARING;\")\n"
   ]
  },
  {
   "cell_type": "markdown",
   "metadata": {},
   "source": [
    "## Task 5 - Date Range\n",
    "\n",
    "#### Find the first and last dates in the Seoul Bike Sharing dataset.\n"
   ]
  },
  {
   "cell_type": "markdown",
   "metadata": {},
   "source": [
    "### Solution 5\n"
   ]
  },
  {
   "cell_type": "code",
   "execution_count": 51,
   "metadata": {},
   "outputs": [
    {
     "data": {
      "text/html": [
       "<table>\n",
       "<caption>A data.frame: 1 × 2</caption>\n",
       "<thead>\n",
       "\t<tr><th></th><th scope=col>FIRST_DATE</th><th scope=col>LAST_DATE</th></tr>\n",
       "\t<tr><th></th><th scope=col>&lt;fct&gt;</th><th scope=col>&lt;fct&gt;</th></tr>\n",
       "</thead>\n",
       "<tbody>\n",
       "\t<tr><th scope=row>1</th><td>01/01/2018</td><td>31/12/2017</td></tr>\n",
       "</tbody>\n",
       "</table>\n"
      ],
      "text/latex": [
       "A data.frame: 1 × 2\n",
       "\\begin{tabular}{r|ll}\n",
       "  & FIRST\\_DATE & LAST\\_DATE\\\\\n",
       "  & <fct> & <fct>\\\\\n",
       "\\hline\n",
       "\t1 & 01/01/2018 & 31/12/2017\\\\\n",
       "\\end{tabular}\n"
      ],
      "text/markdown": [
       "\n",
       "A data.frame: 1 × 2\n",
       "\n",
       "| <!--/--> | FIRST_DATE &lt;fct&gt; | LAST_DATE &lt;fct&gt; |\n",
       "|---|---|---|\n",
       "| 1 | 01/01/2018 | 31/12/2017 |\n",
       "\n"
      ],
      "text/plain": [
       "  FIRST_DATE LAST_DATE \n",
       "1 01/01/2018 31/12/2017"
      ]
     },
     "metadata": {},
     "output_type": "display_data"
    }
   ],
   "source": [
    "# provide your solution here\n",
    "sqlQuery ( conn, \"SELECT MIN(DATE) as FIRST_DATE, MAX(DATE) as LAST_DATE from SEOUL_BIKE_SHARING;\")"
   ]
  },
  {
   "cell_type": "markdown",
   "metadata": {},
   "source": [
    "## Task 6 - Subquery - 'all-time high'\n",
    "\n",
    "#### determine which date and hour had the most bike rentals.\n"
   ]
  },
  {
   "cell_type": "markdown",
   "metadata": {},
   "source": [
    "### Solution 6\n"
   ]
  },
  {
   "cell_type": "code",
   "execution_count": 59,
   "metadata": {},
   "outputs": [
    {
     "data": {
      "text/html": [
       "<table>\n",
       "<caption>A data.frame: 1 × 1</caption>\n",
       "<thead>\n",
       "\t<tr><th></th><th scope=col>1</th></tr>\n",
       "\t<tr><th></th><th scope=col>&lt;int&gt;</th></tr>\n",
       "</thead>\n",
       "<tbody>\n",
       "\t<tr><th scope=row>1</th><td>3556</td></tr>\n",
       "</tbody>\n",
       "</table>\n"
      ],
      "text/latex": [
       "A data.frame: 1 × 1\n",
       "\\begin{tabular}{r|l}\n",
       "  & 1\\\\\n",
       "  & <int>\\\\\n",
       "\\hline\n",
       "\t1 & 3556\\\\\n",
       "\\end{tabular}\n"
      ],
      "text/markdown": [
       "\n",
       "A data.frame: 1 × 1\n",
       "\n",
       "| <!--/--> | 1 &lt;int&gt; |\n",
       "|---|---|\n",
       "| 1 | 3556 |\n",
       "\n"
      ],
      "text/plain": [
       "  1   \n",
       "1 3556"
      ]
     },
     "metadata": {},
     "output_type": "display_data"
    },
    {
     "data": {
      "text/html": [
       "<table>\n",
       "<caption>A data.frame: 1 × 3</caption>\n",
       "<thead>\n",
       "\t<tr><th></th><th scope=col>DATE</th><th scope=col>HOUR</th><th scope=col>RENTED_BIKE_COUNT</th></tr>\n",
       "\t<tr><th></th><th scope=col>&lt;fct&gt;</th><th scope=col>&lt;int&gt;</th><th scope=col>&lt;int&gt;</th></tr>\n",
       "</thead>\n",
       "<tbody>\n",
       "\t<tr><th scope=row>1</th><td>19/06/2018</td><td>18</td><td>3556</td></tr>\n",
       "</tbody>\n",
       "</table>\n"
      ],
      "text/latex": [
       "A data.frame: 1 × 3\n",
       "\\begin{tabular}{r|lll}\n",
       "  & DATE & HOUR & RENTED\\_BIKE\\_COUNT\\\\\n",
       "  & <fct> & <int> & <int>\\\\\n",
       "\\hline\n",
       "\t1 & 19/06/2018 & 18 & 3556\\\\\n",
       "\\end{tabular}\n"
      ],
      "text/markdown": [
       "\n",
       "A data.frame: 1 × 3\n",
       "\n",
       "| <!--/--> | DATE &lt;fct&gt; | HOUR &lt;int&gt; | RENTED_BIKE_COUNT &lt;int&gt; |\n",
       "|---|---|---|---|\n",
       "| 1 | 19/06/2018 | 18 | 3556 |\n",
       "\n"
      ],
      "text/plain": [
       "  DATE       HOUR RENTED_BIKE_COUNT\n",
       "1 19/06/2018 18   3556             "
      ]
     },
     "metadata": {},
     "output_type": "display_data"
    }
   ],
   "source": [
    "# provide your solution here\n",
    "sqlQuery (conn, \"SELECT MAX(RENTED_BIKE_COUNT) from SEOUL_BIKE_SHARING;\")\n",
    "sqlQuery ( conn, \"SELECT DATE,HOUR,RENTED_BIKE_COUNT from SEOUL_BIKE_SHARING where RENTED_BIKE_COUNT =(SELECT MAX(RENTED_BIKE_COUNT) \n",
    "from SEOUL_BIKE_SHARING) ORDER BY RENTED_BIKE_COUNT DESC LIMIT 15 ;\")\n"
   ]
  },
  {
   "cell_type": "code",
   "execution_count": 83,
   "metadata": {},
   "outputs": [
    {
     "data": {
      "text/html": [
       "<table>\n",
       "<caption>A data.frame: 1 × 3</caption>\n",
       "<thead>\n",
       "\t<tr><th></th><th scope=col>HOUR</th><th scope=col>DATE</th><th scope=col>RENTED_BIKE_COUNT</th></tr>\n",
       "\t<tr><th></th><th scope=col>&lt;int&gt;</th><th scope=col>&lt;fct&gt;</th><th scope=col>&lt;int&gt;</th></tr>\n",
       "</thead>\n",
       "<tbody>\n",
       "\t<tr><th scope=row>1</th><td>18</td><td>19/06/2018</td><td>3556</td></tr>\n",
       "</tbody>\n",
       "</table>\n"
      ],
      "text/latex": [
       "A data.frame: 1 × 3\n",
       "\\begin{tabular}{r|lll}\n",
       "  & HOUR & DATE & RENTED\\_BIKE\\_COUNT\\\\\n",
       "  & <int> & <fct> & <int>\\\\\n",
       "\\hline\n",
       "\t1 & 18 & 19/06/2018 & 3556\\\\\n",
       "\\end{tabular}\n"
      ],
      "text/markdown": [
       "\n",
       "A data.frame: 1 × 3\n",
       "\n",
       "| <!--/--> | HOUR &lt;int&gt; | DATE &lt;fct&gt; | RENTED_BIKE_COUNT &lt;int&gt; |\n",
       "|---|---|---|---|\n",
       "| 1 | 18 | 19/06/2018 | 3556 |\n",
       "\n"
      ],
      "text/plain": [
       "  HOUR DATE       RENTED_BIKE_COUNT\n",
       "1 18   19/06/2018 3556             "
      ]
     },
     "metadata": {},
     "output_type": "display_data"
    }
   ],
   "source": [
    "query2 <- \"SELECT HOUR,DATE,RENTED_BIKE_COUNT \n",
    "from SEOUL_BIKE_SHARING \n",
    "where RENTED_BIKE_COUNT = (SELECT MAX(RENTED_BIKE_COUNT) from SEOUL_BIKE_SHARING )\"\n",
    "view <-sqlQuery(conn, query2)\n",
    "view\n"
   ]
  },
  {
   "cell_type": "markdown",
   "metadata": {},
   "source": [
    "## Task 7 - Hourly popularity and temperature by season\n",
    "\n",
    "#### Determine the average hourly temperature and the average number of bike rentals per hour over each season. List the top ten results by average bike count.\n"
   ]
  },
  {
   "cell_type": "markdown",
   "metadata": {},
   "source": [
    "### Solution 7\n"
   ]
  },
  {
   "cell_type": "code",
   "execution_count": 99,
   "metadata": {},
   "outputs": [
    {
     "data": {
      "text/html": [
       "<table>\n",
       "<caption>A data.frame: 4 × 3</caption>\n",
       "<thead>\n",
       "\t<tr><th></th><th scope=col>SEASONS</th><th scope=col>AVG_RBC</th><th scope=col>AVG_TEMP</th></tr>\n",
       "\t<tr><th></th><th scope=col>&lt;fct&gt;</th><th scope=col>&lt;int&gt;</th><th scope=col>&lt;dbl&gt;</th></tr>\n",
       "</thead>\n",
       "<tbody>\n",
       "\t<tr><th scope=row>1</th><td>Winter</td><td> 225</td><td>-2.540463</td></tr>\n",
       "\t<tr><th scope=row>2</th><td>Spring</td><td> 746</td><td>13.021389</td></tr>\n",
       "\t<tr><th scope=row>3</th><td>Autumn</td><td> 924</td><td>13.821167</td></tr>\n",
       "\t<tr><th scope=row>4</th><td>Summer</td><td>1034</td><td>26.587274</td></tr>\n",
       "</tbody>\n",
       "</table>\n"
      ],
      "text/latex": [
       "A data.frame: 4 × 3\n",
       "\\begin{tabular}{r|lll}\n",
       "  & SEASONS & AVG\\_RBC & AVG\\_TEMP\\\\\n",
       "  & <fct> & <int> & <dbl>\\\\\n",
       "\\hline\n",
       "\t1 & Winter &  225 & -2.540463\\\\\n",
       "\t2 & Spring &  746 & 13.021389\\\\\n",
       "\t3 & Autumn &  924 & 13.821167\\\\\n",
       "\t4 & Summer & 1034 & 26.587274\\\\\n",
       "\\end{tabular}\n"
      ],
      "text/markdown": [
       "\n",
       "A data.frame: 4 × 3\n",
       "\n",
       "| <!--/--> | SEASONS &lt;fct&gt; | AVG_RBC &lt;int&gt; | AVG_TEMP &lt;dbl&gt; |\n",
       "|---|---|---|---|\n",
       "| 1 | Winter |  225 | -2.540463 |\n",
       "| 2 | Spring |  746 | 13.021389 |\n",
       "| 3 | Autumn |  924 | 13.821167 |\n",
       "| 4 | Summer | 1034 | 26.587274 |\n",
       "\n"
      ],
      "text/plain": [
       "  SEASONS AVG_RBC AVG_TEMP \n",
       "1 Winter   225    -2.540463\n",
       "2 Spring   746    13.021389\n",
       "3 Autumn   924    13.821167\n",
       "4 Summer  1034    26.587274"
      ]
     },
     "metadata": {},
     "output_type": "display_data"
    },
    {
     "data": {
      "text/html": [
       "<table>\n",
       "<caption>A data.frame: 6 × 4</caption>\n",
       "<thead>\n",
       "\t<tr><th></th><th scope=col>SEASONS</th><th scope=col>HOUR</th><th scope=col>AVG_RBC</th><th scope=col>AVG_TEMP</th></tr>\n",
       "\t<tr><th></th><th scope=col>&lt;fct&gt;</th><th scope=col>&lt;int&gt;</th><th scope=col>&lt;int&gt;</th><th scope=col>&lt;dbl&gt;</th></tr>\n",
       "</thead>\n",
       "<tbody>\n",
       "\t<tr><th scope=row>1</th><td>Winter</td><td>4</td><td> 50</td><td>-4.564444</td></tr>\n",
       "\t<tr><th scope=row>2</th><td>Winter</td><td>5</td><td> 51</td><td>-4.803333</td></tr>\n",
       "\t<tr><th scope=row>3</th><td>Winter</td><td>3</td><td> 77</td><td>-4.363333</td></tr>\n",
       "\t<tr><th scope=row>4</th><td>Winter</td><td>6</td><td> 92</td><td>-5.031111</td></tr>\n",
       "\t<tr><th scope=row>5</th><td>Spring</td><td>4</td><td>108</td><td> 9.694444</td></tr>\n",
       "\t<tr><th scope=row>6</th><td>Spring</td><td>5</td><td>116</td><td> 9.453333</td></tr>\n",
       "</tbody>\n",
       "</table>\n"
      ],
      "text/latex": [
       "A data.frame: 6 × 4\n",
       "\\begin{tabular}{r|llll}\n",
       "  & SEASONS & HOUR & AVG\\_RBC & AVG\\_TEMP\\\\\n",
       "  & <fct> & <int> & <int> & <dbl>\\\\\n",
       "\\hline\n",
       "\t1 & Winter & 4 &  50 & -4.564444\\\\\n",
       "\t2 & Winter & 5 &  51 & -4.803333\\\\\n",
       "\t3 & Winter & 3 &  77 & -4.363333\\\\\n",
       "\t4 & Winter & 6 &  92 & -5.031111\\\\\n",
       "\t5 & Spring & 4 & 108 &  9.694444\\\\\n",
       "\t6 & Spring & 5 & 116 &  9.453333\\\\\n",
       "\\end{tabular}\n"
      ],
      "text/markdown": [
       "\n",
       "A data.frame: 6 × 4\n",
       "\n",
       "| <!--/--> | SEASONS &lt;fct&gt; | HOUR &lt;int&gt; | AVG_RBC &lt;int&gt; | AVG_TEMP &lt;dbl&gt; |\n",
       "|---|---|---|---|---|\n",
       "| 1 | Winter | 4 |  50 | -4.564444 |\n",
       "| 2 | Winter | 5 |  51 | -4.803333 |\n",
       "| 3 | Winter | 3 |  77 | -4.363333 |\n",
       "| 4 | Winter | 6 |  92 | -5.031111 |\n",
       "| 5 | Spring | 4 | 108 |  9.694444 |\n",
       "| 6 | Spring | 5 | 116 |  9.453333 |\n",
       "\n"
      ],
      "text/plain": [
       "  SEASONS HOUR AVG_RBC AVG_TEMP \n",
       "1 Winter  4     50     -4.564444\n",
       "2 Winter  5     51     -4.803333\n",
       "3 Winter  3     77     -4.363333\n",
       "4 Winter  6     92     -5.031111\n",
       "5 Spring  4    108      9.694444\n",
       "6 Spring  5    116      9.453333"
      ]
     },
     "metadata": {},
     "output_type": "display_data"
    }
   ],
   "source": [
    "sqlQuery(conn, \"select SEASONS, AVG(RENTED_BIKE_COUNT) AS AVG_RBC,AVG(TEMPERATURE) AS AVG_TEMP from SEOUL_BIKE_SHARING  GROUP BY SEASONS ORDER BY\n",
    "AVG_RBC;\") \n",
    "sqlQuery(conn, \"select SEASONS, HOUR, AVG(RENTED_BIKE_COUNT) AS AVG_RBC,AVG(TEMPERATURE) AS AVG_TEMP from SEOUL_BIKE_SHARING GROUP BY SEASONS, \n",
    "HOUR ORDER BY AVG_RBC LIMIT 6;\") \n"
   ]
  },
  {
   "cell_type": "markdown",
   "metadata": {},
   "source": [
    "## Task 8 - Rental Seasonality\n",
    "\n",
    "#### Find the average hourly bike count during each season.\n",
    "\n",
    "Also include the minimum, maximum, and standard deviation of the hourly bike count for each season.\n"
   ]
  },
  {
   "cell_type": "markdown",
   "metadata": {},
   "source": [
    "### Solution 8\n"
   ]
  },
  {
   "cell_type": "code",
   "execution_count": 69,
   "metadata": {},
   "outputs": [
    {
     "data": {
      "text/html": [
       "<table>\n",
       "<caption>A data.frame: 4 × 9</caption>\n",
       "<thead>\n",
       "\t<tr><th></th><th scope=col>RENTED_BIKE_COOUNT_MIN</th><th scope=col>MAX</th><th scope=col>AVG_SEA</th><th scope=col>STD_DV</th><th scope=col>MEDIAN</th><th scope=col>SUM</th><th scope=col>COUNT</th><th scope=col>AVG_RBC_HR</th><th scope=col>SEASONS</th></tr>\n",
       "\t<tr><th></th><th scope=col>&lt;int&gt;</th><th scope=col>&lt;int&gt;</th><th scope=col>&lt;int&gt;</th><th scope=col>&lt;dbl&gt;</th><th scope=col>&lt;dbl&gt;</th><th scope=col>&lt;int&gt;</th><th scope=col>&lt;int&gt;</th><th scope=col>&lt;int&gt;</th><th scope=col>&lt;fct&gt;</th></tr>\n",
       "</thead>\n",
       "<tbody>\n",
       "\t<tr><th scope=row>1</th><td>3</td><td> 937</td><td> 225</td><td>150.3374</td><td>203.0</td><td> 487169</td><td>2160</td><td>20</td><td>Winter</td></tr>\n",
       "\t<tr><th scope=row>2</th><td>2</td><td>3251</td><td> 746</td><td>618.5247</td><td>599.0</td><td>1611909</td><td>2160</td><td>67</td><td>Spring</td></tr>\n",
       "\t<tr><th scope=row>3</th><td>2</td><td>3298</td><td> 924</td><td>617.3885</td><td>856.0</td><td>1790002</td><td>1937</td><td>84</td><td>Autumn</td></tr>\n",
       "\t<tr><th scope=row>4</th><td>9</td><td>3556</td><td>1034</td><td>690.0884</td><td>905.5</td><td>2283234</td><td>2208</td><td>94</td><td>Summer</td></tr>\n",
       "</tbody>\n",
       "</table>\n"
      ],
      "text/latex": [
       "A data.frame: 4 × 9\n",
       "\\begin{tabular}{r|lllllllll}\n",
       "  & RENTED\\_BIKE\\_COOUNT\\_MIN & MAX & AVG\\_SEA & STD\\_DV & MEDIAN & SUM & COUNT & AVG\\_RBC\\_HR & SEASONS\\\\\n",
       "  & <int> & <int> & <int> & <dbl> & <dbl> & <int> & <int> & <int> & <fct>\\\\\n",
       "\\hline\n",
       "\t1 & 3 &  937 &  225 & 150.3374 & 203.0 &  487169 & 2160 & 20 & Winter\\\\\n",
       "\t2 & 2 & 3251 &  746 & 618.5247 & 599.0 & 1611909 & 2160 & 67 & Spring\\\\\n",
       "\t3 & 2 & 3298 &  924 & 617.3885 & 856.0 & 1790002 & 1937 & 84 & Autumn\\\\\n",
       "\t4 & 9 & 3556 & 1034 & 690.0884 & 905.5 & 2283234 & 2208 & 94 & Summer\\\\\n",
       "\\end{tabular}\n"
      ],
      "text/markdown": [
       "\n",
       "A data.frame: 4 × 9\n",
       "\n",
       "| <!--/--> | RENTED_BIKE_COOUNT_MIN &lt;int&gt; | MAX &lt;int&gt; | AVG_SEA &lt;int&gt; | STD_DV &lt;dbl&gt; | MEDIAN &lt;dbl&gt; | SUM &lt;int&gt; | COUNT &lt;int&gt; | AVG_RBC_HR &lt;int&gt; | SEASONS &lt;fct&gt; |\n",
       "|---|---|---|---|---|---|---|---|---|---|\n",
       "| 1 | 3 |  937 |  225 | 150.3374 | 203.0 |  487169 | 2160 | 20 | Winter |\n",
       "| 2 | 2 | 3251 |  746 | 618.5247 | 599.0 | 1611909 | 2160 | 67 | Spring |\n",
       "| 3 | 2 | 3298 |  924 | 617.3885 | 856.0 | 1790002 | 1937 | 84 | Autumn |\n",
       "| 4 | 9 | 3556 | 1034 | 690.0884 | 905.5 | 2283234 | 2208 | 94 | Summer |\n",
       "\n"
      ],
      "text/plain": [
       "  RENTED_BIKE_COOUNT_MIN MAX  AVG_SEA STD_DV   MEDIAN SUM     COUNT AVG_RBC_HR\n",
       "1 3                       937  225    150.3374 203.0   487169 2160  20        \n",
       "2 2                      3251  746    618.5247 599.0  1611909 2160  67        \n",
       "3 2                      3298  924    617.3885 856.0  1790002 1937  84        \n",
       "4 9                      3556 1034    690.0884 905.5  2283234 2208  94        \n",
       "  SEASONS\n",
       "1 Winter \n",
       "2 Spring \n",
       "3 Autumn \n",
       "4 Summer "
      ]
     },
     "metadata": {},
     "output_type": "display_data"
    }
   ],
   "source": [
    "# provide your solution here\n",
    "sqlQuery(conn, \"select MIN(RENTED_BIKE_COUNT) as RENTED_BIKE_COOUNT_MIN,MAX(RENTED_BIKE_COUNT) AS MAX,AVG(RENTED_BIKE_COUNT) AS AVG_SEA,\n",
    "STDDEV(RENTED_BIKE_COUNT) AS STD_DV,MEDIAN(RENTED_BIKE_COUNT) AS MEDIAN,SUM(RENTED_BIKE_COUNT) AS SUM,COUNT(RENTED_BIKE_COUNT)\n",
    "AS COUNT,AVG(RENTED_BIKE_COUNT)/AVG(HOUR) AS AVG_RBC_HR,SEASONS from SEOUL_BIKE_SHARING GROUP BY SEASONS ORDER BY AVG_SEA;\")"
   ]
  },
  {
   "cell_type": "code",
   "execution_count": 75,
   "metadata": {},
   "outputs": [
    {
     "data": {
      "text/html": [
       "<table>\n",
       "<caption>A data.frame: 1 × 9</caption>\n",
       "<thead>\n",
       "\t<tr><th></th><th scope=col>RENTED_BIKE_COOUNT_MIN</th><th scope=col>MAX</th><th scope=col>AVG</th><th scope=col>STD_DV</th><th scope=col>MEDIAN</th><th scope=col>SUM</th><th scope=col>COUNT</th><th scope=col>AVGRBC_HR</th><th scope=col>SEASONS</th></tr>\n",
       "\t<tr><th></th><th scope=col>&lt;int&gt;</th><th scope=col>&lt;int&gt;</th><th scope=col>&lt;int&gt;</th><th scope=col>&lt;dbl&gt;</th><th scope=col>&lt;dbl&gt;</th><th scope=col>&lt;int&gt;</th><th scope=col>&lt;int&gt;</th><th scope=col>&lt;int&gt;</th><th scope=col>&lt;fct&gt;</th></tr>\n",
       "</thead>\n",
       "<tbody>\n",
       "\t<tr><th scope=row>1</th><td>2</td><td>3298</td><td>924</td><td>617.3885</td><td>856</td><td>1790002</td><td>1937</td><td>84</td><td>Autumn</td></tr>\n",
       "</tbody>\n",
       "</table>\n"
      ],
      "text/latex": [
       "A data.frame: 1 × 9\n",
       "\\begin{tabular}{r|lllllllll}\n",
       "  & RENTED\\_BIKE\\_COOUNT\\_MIN & MAX & AVG & STD\\_DV & MEDIAN & SUM & COUNT & AVGRBC\\_HR & SEASONS\\\\\n",
       "  & <int> & <int> & <int> & <dbl> & <dbl> & <int> & <int> & <int> & <fct>\\\\\n",
       "\\hline\n",
       "\t1 & 2 & 3298 & 924 & 617.3885 & 856 & 1790002 & 1937 & 84 & Autumn\\\\\n",
       "\\end{tabular}\n"
      ],
      "text/markdown": [
       "\n",
       "A data.frame: 1 × 9\n",
       "\n",
       "| <!--/--> | RENTED_BIKE_COOUNT_MIN &lt;int&gt; | MAX &lt;int&gt; | AVG &lt;int&gt; | STD_DV &lt;dbl&gt; | MEDIAN &lt;dbl&gt; | SUM &lt;int&gt; | COUNT &lt;int&gt; | AVGRBC_HR &lt;int&gt; | SEASONS &lt;fct&gt; |\n",
       "|---|---|---|---|---|---|---|---|---|---|\n",
       "| 1 | 2 | 3298 | 924 | 617.3885 | 856 | 1790002 | 1937 | 84 | Autumn |\n",
       "\n"
      ],
      "text/plain": [
       "  RENTED_BIKE_COOUNT_MIN MAX  AVG STD_DV   MEDIAN SUM     COUNT AVGRBC_HR\n",
       "1 2                      3298 924 617.3885 856    1790002 1937  84       \n",
       "  SEASONS\n",
       "1 Autumn "
      ]
     },
     "metadata": {},
     "output_type": "display_data"
    }
   ],
   "source": [
    "# provide your solution here\n",
    "sqlQuery(conn, \"select MIN(RENTED_BIKE_COUNT) as RENTED_BIKE_COOUNT_MIN,MAX(RENTED_BIKE_COUNT) AS MAX,AVG(RENTED_BIKE_COUNT) \n",
    "AS AVG,STDDEV(RENTED_BIKE_COUNT) AS STD_DV,MEDIAN(RENTED_BIKE_COUNT) AS MEDIAN,SUM(RENTED_BIKE_COUNT) AS SUM,COUNT(RENTED_BIKE_COUNT) \n",
    "AS COUNT,AVG(RENTED_BIKE_COUNT)/AVG(HOUR) AS AVGRBC_HR,(SELECT DISTINCT(SEASONS) from SEOUL_BIKE_SHARING WHERE SEASONS = 'Autumn')\n",
    "from SEOUL_BIKE_SHARING WHERE SEASONS = 'Autumn';\")"
   ]
  },
  {
   "cell_type": "markdown",
   "metadata": {},
   "source": [
    "Let's explore a bit and see what might be the most significant contributing factors in terms of the provided data.\n"
   ]
  },
  {
   "cell_type": "markdown",
   "metadata": {},
   "source": [
    "## Task 9 - Weather Seasonality\n",
    "\n",
    "#### Consider the weather over each season. On average, what were the TEMPERATURE, HUMIDITY, WIND_SPEED, VISIBILITY, DEW_POINT_TEMPERATURE, SOLAR_RADIATION, RAINFALL, and SNOWFALL per season?\n",
    "\n",
    "Include the average bike count as well , and rank the results by average bike count so you can see if it is correlated with the weather at all.\n"
   ]
  },
  {
   "cell_type": "markdown",
   "metadata": {},
   "source": [
    "### Solution 9\n"
   ]
  },
  {
   "cell_type": "code",
   "execution_count": 87,
   "metadata": {},
   "outputs": [
    {
     "data": {
      "text/html": [
       "<table>\n",
       "<caption>A data.frame: 4 × 10</caption>\n",
       "<thead>\n",
       "\t<tr><th></th><th scope=col>SEASONS</th><th scope=col>TEMP_AVG</th><th scope=col>HUMIDITY_AVG</th><th scope=col>WIND_SPEED_AVG</th><th scope=col>VISIBILITY_AVG</th><th scope=col>SOLAR_RADT_AVG</th><th scope=col>RAINFALL_AVG</th><th scope=col>SNOWFALL_AVG</th><th scope=col>DP_TEMP_AVG</th><th scope=col>BIKE_COUNT_AVG</th></tr>\n",
       "\t<tr><th></th><th scope=col>&lt;fct&gt;</th><th scope=col>&lt;dbl&gt;</th><th scope=col>&lt;int&gt;</th><th scope=col>&lt;dbl&gt;</th><th scope=col>&lt;int&gt;</th><th scope=col>&lt;dbl&gt;</th><th scope=col>&lt;dbl&gt;</th><th scope=col>&lt;dbl&gt;</th><th scope=col>&lt;dbl&gt;</th><th scope=col>&lt;int&gt;</th></tr>\n",
       "</thead>\n",
       "<tbody>\n",
       "\t<tr><th scope=row>1</th><td>Winter</td><td>-2.540463</td><td>49</td><td>1.922685</td><td>1445</td><td>0.2981806</td><td>0.03282407</td><td>0.24750000</td><td>-12.416667</td><td> 225</td></tr>\n",
       "\t<tr><th scope=row>2</th><td>Spring</td><td>13.021389</td><td>58</td><td>1.857778</td><td>1240</td><td>0.6803009</td><td>0.18694444</td><td>0.00000000</td><td>  4.091389</td><td> 746</td></tr>\n",
       "\t<tr><th scope=row>3</th><td>Autumn</td><td>13.821167</td><td>59</td><td>1.492101</td><td>1558</td><td>0.5227827</td><td>0.11765617</td><td>0.06350026</td><td>  5.150594</td><td> 924</td></tr>\n",
       "\t<tr><th scope=row>4</th><td>Summer</td><td>26.587274</td><td>64</td><td>1.609420</td><td>1501</td><td>0.7612545</td><td>0.25348732</td><td>0.00000000</td><td> 18.750136</td><td>1034</td></tr>\n",
       "</tbody>\n",
       "</table>\n"
      ],
      "text/latex": [
       "A data.frame: 4 × 10\n",
       "\\begin{tabular}{r|llllllllll}\n",
       "  & SEASONS & TEMP\\_AVG & HUMIDITY\\_AVG & WIND\\_SPEED\\_AVG & VISIBILITY\\_AVG & SOLAR\\_RADT\\_AVG & RAINFALL\\_AVG & SNOWFALL\\_AVG & DP\\_TEMP\\_AVG & BIKE\\_COUNT\\_AVG\\\\\n",
       "  & <fct> & <dbl> & <int> & <dbl> & <int> & <dbl> & <dbl> & <dbl> & <dbl> & <int>\\\\\n",
       "\\hline\n",
       "\t1 & Winter & -2.540463 & 49 & 1.922685 & 1445 & 0.2981806 & 0.03282407 & 0.24750000 & -12.416667 &  225\\\\\n",
       "\t2 & Spring & 13.021389 & 58 & 1.857778 & 1240 & 0.6803009 & 0.18694444 & 0.00000000 &   4.091389 &  746\\\\\n",
       "\t3 & Autumn & 13.821167 & 59 & 1.492101 & 1558 & 0.5227827 & 0.11765617 & 0.06350026 &   5.150594 &  924\\\\\n",
       "\t4 & Summer & 26.587274 & 64 & 1.609420 & 1501 & 0.7612545 & 0.25348732 & 0.00000000 &  18.750136 & 1034\\\\\n",
       "\\end{tabular}\n"
      ],
      "text/markdown": [
       "\n",
       "A data.frame: 4 × 10\n",
       "\n",
       "| <!--/--> | SEASONS &lt;fct&gt; | TEMP_AVG &lt;dbl&gt; | HUMIDITY_AVG &lt;int&gt; | WIND_SPEED_AVG &lt;dbl&gt; | VISIBILITY_AVG &lt;int&gt; | SOLAR_RADT_AVG &lt;dbl&gt; | RAINFALL_AVG &lt;dbl&gt; | SNOWFALL_AVG &lt;dbl&gt; | DP_TEMP_AVG &lt;dbl&gt; | BIKE_COUNT_AVG &lt;int&gt; |\n",
       "|---|---|---|---|---|---|---|---|---|---|---|\n",
       "| 1 | Winter | -2.540463 | 49 | 1.922685 | 1445 | 0.2981806 | 0.03282407 | 0.24750000 | -12.416667 |  225 |\n",
       "| 2 | Spring | 13.021389 | 58 | 1.857778 | 1240 | 0.6803009 | 0.18694444 | 0.00000000 |   4.091389 |  746 |\n",
       "| 3 | Autumn | 13.821167 | 59 | 1.492101 | 1558 | 0.5227827 | 0.11765617 | 0.06350026 |   5.150594 |  924 |\n",
       "| 4 | Summer | 26.587274 | 64 | 1.609420 | 1501 | 0.7612545 | 0.25348732 | 0.00000000 |  18.750136 | 1034 |\n",
       "\n"
      ],
      "text/plain": [
       "  SEASONS TEMP_AVG  HUMIDITY_AVG WIND_SPEED_AVG VISIBILITY_AVG SOLAR_RADT_AVG\n",
       "1 Winter  -2.540463 49           1.922685       1445           0.2981806     \n",
       "2 Spring  13.021389 58           1.857778       1240           0.6803009     \n",
       "3 Autumn  13.821167 59           1.492101       1558           0.5227827     \n",
       "4 Summer  26.587274 64           1.609420       1501           0.7612545     \n",
       "  RAINFALL_AVG SNOWFALL_AVG DP_TEMP_AVG BIKE_COUNT_AVG\n",
       "1 0.03282407   0.24750000   -12.416667   225          \n",
       "2 0.18694444   0.00000000     4.091389   746          \n",
       "3 0.11765617   0.06350026     5.150594   924          \n",
       "4 0.25348732   0.00000000    18.750136  1034          "
      ]
     },
     "metadata": {},
     "output_type": "display_data"
    }
   ],
   "source": [
    "# provide your solution here\n",
    "sqlQuery(conn, \"select SEASONS, AVG(TEMPERATURE) as TEMP_AVG, AVG(HUMIDITY) AS HUMIDITY_AVG, AVG(WIND_SPEED) AS WIND_SPEED_AVG, AVG(VISIBILITY)\n",
    "AS VISIBILITY_AVG , AVG(SOLAR_RADIATION) AS SOLAR_RADT_AVG, AVG(RAINFALL) AS RAINFALL_AVG, AVG(SNOWFALL) AS SNOWFALL_AVG, \n",
    "AVG(DEW_POINT_TEMPERATURE) AS DP_TEMP_AVG,AVG(RENTED_BIKE_COUNT) AS BIKE_COUNT_AVG from  SEOUL_BIKE_SHARING GROUP BY SEASONS ORDER BY\n",
    "BIKE_COUNT_AVG LIMIT 10;\")"
   ]
  },
  {
   "cell_type": "code",
   "execution_count": 73,
   "metadata": {},
   "outputs": [
    {
     "data": {
      "text/html": [
       "<table>\n",
       "<caption>A data.frame: 1 × 10</caption>\n",
       "<thead>\n",
       "\t<tr><th></th><th scope=col>TEMP_AVG</th><th scope=col>HUMIDITY_AVG</th><th scope=col>WIND_SPEED_AVG</th><th scope=col>VISIBILITY_AVG</th><th scope=col>SOLAR_RADT_AVG</th><th scope=col>RAINFALL_AVG</th><th scope=col>SNOWFALL_AVG</th><th scope=col>DP_TEMP_AVG</th><th scope=col>BIKE_COUNT_AVG</th><th scope=col>SEASONS</th></tr>\n",
       "\t<tr><th></th><th scope=col>&lt;dbl&gt;</th><th scope=col>&lt;int&gt;</th><th scope=col>&lt;dbl&gt;</th><th scope=col>&lt;int&gt;</th><th scope=col>&lt;dbl&gt;</th><th scope=col>&lt;dbl&gt;</th><th scope=col>&lt;dbl&gt;</th><th scope=col>&lt;dbl&gt;</th><th scope=col>&lt;int&gt;</th><th scope=col>&lt;fct&gt;</th></tr>\n",
       "</thead>\n",
       "<tbody>\n",
       "\t<tr><th scope=row>1</th><td>13.82117</td><td>59</td><td>1.492101</td><td>1558</td><td>0.5227827</td><td>0.1176562</td><td>0.06350026</td><td>5.150594</td><td>924</td><td>Autumn</td></tr>\n",
       "</tbody>\n",
       "</table>\n"
      ],
      "text/latex": [
       "A data.frame: 1 × 10\n",
       "\\begin{tabular}{r|llllllllll}\n",
       "  & TEMP\\_AVG & HUMIDITY\\_AVG & WIND\\_SPEED\\_AVG & VISIBILITY\\_AVG & SOLAR\\_RADT\\_AVG & RAINFALL\\_AVG & SNOWFALL\\_AVG & DP\\_TEMP\\_AVG & BIKE\\_COUNT\\_AVG & SEASONS\\\\\n",
       "  & <dbl> & <int> & <dbl> & <int> & <dbl> & <dbl> & <dbl> & <dbl> & <int> & <fct>\\\\\n",
       "\\hline\n",
       "\t1 & 13.82117 & 59 & 1.492101 & 1558 & 0.5227827 & 0.1176562 & 0.06350026 & 5.150594 & 924 & Autumn\\\\\n",
       "\\end{tabular}\n"
      ],
      "text/markdown": [
       "\n",
       "A data.frame: 1 × 10\n",
       "\n",
       "| <!--/--> | TEMP_AVG &lt;dbl&gt; | HUMIDITY_AVG &lt;int&gt; | WIND_SPEED_AVG &lt;dbl&gt; | VISIBILITY_AVG &lt;int&gt; | SOLAR_RADT_AVG &lt;dbl&gt; | RAINFALL_AVG &lt;dbl&gt; | SNOWFALL_AVG &lt;dbl&gt; | DP_TEMP_AVG &lt;dbl&gt; | BIKE_COUNT_AVG &lt;int&gt; | SEASONS &lt;fct&gt; |\n",
       "|---|---|---|---|---|---|---|---|---|---|---|\n",
       "| 1 | 13.82117 | 59 | 1.492101 | 1558 | 0.5227827 | 0.1176562 | 0.06350026 | 5.150594 | 924 | Autumn |\n",
       "\n"
      ],
      "text/plain": [
       "  TEMP_AVG HUMIDITY_AVG WIND_SPEED_AVG VISIBILITY_AVG SOLAR_RADT_AVG\n",
       "1 13.82117 59           1.492101       1558           0.5227827     \n",
       "  RAINFALL_AVG SNOWFALL_AVG DP_TEMP_AVG BIKE_COUNT_AVG SEASONS\n",
       "1 0.1176562    0.06350026   5.150594    924            Autumn "
      ]
     },
     "metadata": {},
     "output_type": "display_data"
    }
   ],
   "source": [
    "sqlQuery(conn, \"select AVG(TEMPERATURE) as TEMP_AVG, AVG(HUMIDITY) AS HUMIDITY_AVG, AVG(WIND_SPEED) AS WIND_SPEED_AVG, AVG(VISIBILITY) \n",
    "AS VISIBILITY_AVG , AVG(SOLAR_RADIATION) AS SOLAR_RADT_AVG, AVG(RAINFALL) AS RAINFALL_AVG, AVG(SNOWFALL) AS SNOWFALL_AVG, \n",
    "AVG(DEW_POINT_TEMPERATURE) AS DP_TEMP_AVG,AVG(RENTED_BIKE_COUNT) AS BIKE_COUNT_AVG,(SELECT DISTINCT(SEASONS) \n",
    "from SEOUL_BIKE_SHARING WHERE SEASONS = 'Autumn') from  SEOUL_BIKE_SHARING WHERE SEASONS = 'Autumn'; \")\n"
   ]
  },
  {
   "cell_type": "markdown",
   "metadata": {},
   "source": [
    "## Task 10 - Total Bike Count and City Info for Seoul\n",
    "\n",
    "#### Use an implicit join across the WORLD_CITIES and the BIKE_SHARING_SYSTEMS tables to determine the total number of bikes avaialble in Seoul, plus the following city information about Seoul: CITY, COUNTRY, LAT, LON, POPULATION, in a single view.\n",
    "\n",
    "Notice that in this case, the CITY column will work for the WORLD_CITIES table, but in general you would have to use the CITY_ASCII column.\n"
   ]
  },
  {
   "cell_type": "markdown",
   "metadata": {},
   "source": [
    "### Solution 10\n"
   ]
  },
  {
   "cell_type": "code",
   "execution_count": 101,
   "metadata": {},
   "outputs": [
    {
     "data": {
      "text/html": [
       "<table>\n",
       "<caption>A data.frame: 6 × 15</caption>\n",
       "<thead>\n",
       "\t<tr><th></th><th scope=col>CITY</th><th scope=col>CITY_ASCII</th><th scope=col>LAT</th><th scope=col>LNG</th><th scope=col>COUNTRY</th><th scope=col>ISO2</th><th scope=col>ISO3</th><th scope=col>ADMIN_NAME</th><th scope=col>CAPITAL</th><th scope=col>POPULATION</th><th scope=col>ID</th><th scope=col>COUNTRY.1</th><th scope=col>CITY.1</th><th scope=col>SYSTEM</th><th scope=col>BICYCLES</th></tr>\n",
       "\t<tr><th></th><th scope=col>&lt;fct&gt;</th><th scope=col>&lt;fct&gt;</th><th scope=col>&lt;dbl&gt;</th><th scope=col>&lt;dbl&gt;</th><th scope=col>&lt;fct&gt;</th><th scope=col>&lt;fct&gt;</th><th scope=col>&lt;fct&gt;</th><th scope=col>&lt;fct&gt;</th><th scope=col>&lt;fct&gt;</th><th scope=col>&lt;int&gt;</th><th scope=col>&lt;int&gt;</th><th scope=col>&lt;fct&gt;</th><th scope=col>&lt;fct&gt;</th><th scope=col>&lt;fct&gt;</th><th scope=col>&lt;int&gt;</th></tr>\n",
       "</thead>\n",
       "<tbody>\n",
       "\t<tr><th scope=row>1</th><td>Łódź       </td><td>Lodz       </td><td> 51.77</td><td> 19.45</td><td>Poland      </td><td>PL</td><td>POL</td><td>Łódzkie         </td><td>admin  </td><td>  690422</td><td>1616832750</td><td>Poland     </td><td>Łódź       </td><td>3 Gen. nextbike</td><td> 1490</td></tr>\n",
       "\t<tr><th scope=row>2</th><td>Mumbai     </td><td>Mumbai     </td><td> 18.96</td><td> 72.83</td><td>India       </td><td>IN</td><td>IND</td><td>Mahārāshtra     </td><td>admin  </td><td>23355000</td><td>1356226629</td><td>India      </td><td>Mumbai     </td><td>NA             </td><td>   NA</td></tr>\n",
       "\t<tr><th scope=row>3</th><td>Shanghai   </td><td>Shanghai   </td><td> 31.16</td><td>121.46</td><td>China       </td><td>CN</td><td>CHN</td><td>Shanghai        </td><td>admin  </td><td>22120000</td><td>1156073548</td><td>China      </td><td>Shanghai   </td><td>Forever Bicycle</td><td>19165</td></tr>\n",
       "\t<tr><th scope=row>4</th><td>São Paulo  </td><td>Sao Paulo  </td><td>-23.55</td><td>-46.63</td><td>Brazil      </td><td>BR</td><td>BRA</td><td>São Paulo       </td><td>admin  </td><td>22046000</td><td>1076532519</td><td>Brazil     </td><td>São Paulo  </td><td>tembici        </td><td>  600</td></tr>\n",
       "\t<tr><th scope=row>5</th><td>Seoul      </td><td>Seoul      </td><td> 37.58</td><td>127.00</td><td>Korea, South</td><td>KR</td><td>KOR</td><td>Seoul           </td><td>primary</td><td>21794000</td><td>1410836482</td><td>South Korea</td><td>Seoul      </td><td>NA             </td><td>20000</td></tr>\n",
       "\t<tr><th scope=row>6</th><td>Mexico City</td><td>Mexico City</td><td> 19.43</td><td>-99.13</td><td>Mexico      </td><td>MX</td><td>MEX</td><td>Ciudad de México</td><td>primary</td><td>20996000</td><td>1484247881</td><td>Mexico     </td><td>Mexico City</td><td>3 Gen. Clear CC</td><td> 6500</td></tr>\n",
       "</tbody>\n",
       "</table>\n"
      ],
      "text/latex": [
       "A data.frame: 6 × 15\n",
       "\\begin{tabular}{r|lllllllllllllll}\n",
       "  & CITY & CITY\\_ASCII & LAT & LNG & COUNTRY & ISO2 & ISO3 & ADMIN\\_NAME & CAPITAL & POPULATION & ID & COUNTRY.1 & CITY.1 & SYSTEM & BICYCLES\\\\\n",
       "  & <fct> & <fct> & <dbl> & <dbl> & <fct> & <fct> & <fct> & <fct> & <fct> & <int> & <int> & <fct> & <fct> & <fct> & <int>\\\\\n",
       "\\hline\n",
       "\t1 & Łódź        & Lodz        &  51.77 &  19.45 & Poland       & PL & POL & Łódzkie          & admin   &   690422 & 1616832750 & Poland      & Łódź        & 3 Gen. nextbike &  1490\\\\\n",
       "\t2 & Mumbai      & Mumbai      &  18.96 &  72.83 & India        & IN & IND & Mahārāshtra      & admin   & 23355000 & 1356226629 & India       & Mumbai      & NA              &    NA\\\\\n",
       "\t3 & Shanghai    & Shanghai    &  31.16 & 121.46 & China        & CN & CHN & Shanghai         & admin   & 22120000 & 1156073548 & China       & Shanghai    & Forever Bicycle & 19165\\\\\n",
       "\t4 & São Paulo   & Sao Paulo   & -23.55 & -46.63 & Brazil       & BR & BRA & São Paulo        & admin   & 22046000 & 1076532519 & Brazil      & São Paulo   & tembici         &   600\\\\\n",
       "\t5 & Seoul       & Seoul       &  37.58 & 127.00 & Korea, South & KR & KOR & Seoul            & primary & 21794000 & 1410836482 & South Korea & Seoul       & NA              & 20000\\\\\n",
       "\t6 & Mexico City & Mexico City &  19.43 & -99.13 & Mexico       & MX & MEX & Ciudad de México & primary & 20996000 & 1484247881 & Mexico      & Mexico City & 3 Gen. Clear CC &  6500\\\\\n",
       "\\end{tabular}\n"
      ],
      "text/markdown": [
       "\n",
       "A data.frame: 6 × 15\n",
       "\n",
       "| <!--/--> | CITY &lt;fct&gt; | CITY_ASCII &lt;fct&gt; | LAT &lt;dbl&gt; | LNG &lt;dbl&gt; | COUNTRY &lt;fct&gt; | ISO2 &lt;fct&gt; | ISO3 &lt;fct&gt; | ADMIN_NAME &lt;fct&gt; | CAPITAL &lt;fct&gt; | POPULATION &lt;int&gt; | ID &lt;int&gt; | COUNTRY.1 &lt;fct&gt; | CITY.1 &lt;fct&gt; | SYSTEM &lt;fct&gt; | BICYCLES &lt;int&gt; |\n",
       "|---|---|---|---|---|---|---|---|---|---|---|---|---|---|---|---|\n",
       "| 1 | Łódź        | Lodz        |  51.77 |  19.45 | Poland       | PL | POL | Łódzkie          | admin   |   690422 | 1616832750 | Poland      | Łódź        | 3 Gen. nextbike |  1490 |\n",
       "| 2 | Mumbai      | Mumbai      |  18.96 |  72.83 | India        | IN | IND | Mahārāshtra      | admin   | 23355000 | 1356226629 | India       | Mumbai      | NA              |    NA |\n",
       "| 3 | Shanghai    | Shanghai    |  31.16 | 121.46 | China        | CN | CHN | Shanghai         | admin   | 22120000 | 1156073548 | China       | Shanghai    | Forever Bicycle | 19165 |\n",
       "| 4 | São Paulo   | Sao Paulo   | -23.55 | -46.63 | Brazil       | BR | BRA | São Paulo        | admin   | 22046000 | 1076532519 | Brazil      | São Paulo   | tembici         |   600 |\n",
       "| 5 | Seoul       | Seoul       |  37.58 | 127.00 | Korea, South | KR | KOR | Seoul            | primary | 21794000 | 1410836482 | South Korea | Seoul       | NA              | 20000 |\n",
       "| 6 | Mexico City | Mexico City |  19.43 | -99.13 | Mexico       | MX | MEX | Ciudad de México | primary | 20996000 | 1484247881 | Mexico      | Mexico City | 3 Gen. Clear CC |  6500 |\n",
       "\n"
      ],
      "text/plain": [
       "  CITY        CITY_ASCII  LAT    LNG    COUNTRY      ISO2 ISO3 ADMIN_NAME      \n",
       "1 Łódź        Lodz         51.77  19.45 Poland       PL   POL  Łódzkie         \n",
       "2 Mumbai      Mumbai       18.96  72.83 India        IN   IND  Mahārāshtra     \n",
       "3 Shanghai    Shanghai     31.16 121.46 China        CN   CHN  Shanghai        \n",
       "4 São Paulo   Sao Paulo   -23.55 -46.63 Brazil       BR   BRA  São Paulo       \n",
       "5 Seoul       Seoul        37.58 127.00 Korea, South KR   KOR  Seoul           \n",
       "6 Mexico City Mexico City  19.43 -99.13 Mexico       MX   MEX  Ciudad de México\n",
       "  CAPITAL POPULATION ID         COUNTRY.1   CITY.1      SYSTEM         \n",
       "1 admin     690422   1616832750 Poland      Łódź        3 Gen. nextbike\n",
       "2 admin   23355000   1356226629 India       Mumbai      NA             \n",
       "3 admin   22120000   1156073548 China       Shanghai    Forever Bicycle\n",
       "4 admin   22046000   1076532519 Brazil      São Paulo   tembici        \n",
       "5 primary 21794000   1410836482 South Korea Seoul       NA             \n",
       "6 primary 20996000   1484247881 Mexico      Mexico City 3 Gen. Clear CC\n",
       "  BICYCLES\n",
       "1  1490   \n",
       "2    NA   \n",
       "3 19165   \n",
       "4   600   \n",
       "5 20000   \n",
       "6  6500   "
      ]
     },
     "metadata": {},
     "output_type": "display_data"
    },
    {
     "data": {
      "text/html": [
       "<table>\n",
       "<caption>A data.frame: 1 × 3</caption>\n",
       "<thead>\n",
       "\t<tr><th></th><th scope=col>CITY</th><th scope=col>COUNTRY</th><th scope=col>BICYCLES</th></tr>\n",
       "\t<tr><th></th><th scope=col>&lt;fct&gt;</th><th scope=col>&lt;fct&gt;</th><th scope=col>&lt;int&gt;</th></tr>\n",
       "</thead>\n",
       "<tbody>\n",
       "\t<tr><th scope=row>1</th><td>Tirana</td><td>Albania</td><td>200</td></tr>\n",
       "</tbody>\n",
       "</table>\n"
      ],
      "text/latex": [
       "A data.frame: 1 × 3\n",
       "\\begin{tabular}{r|lll}\n",
       "  & CITY & COUNTRY & BICYCLES\\\\\n",
       "  & <fct> & <fct> & <int>\\\\\n",
       "\\hline\n",
       "\t1 & Tirana & Albania & 200\\\\\n",
       "\\end{tabular}\n"
      ],
      "text/markdown": [
       "\n",
       "A data.frame: 1 × 3\n",
       "\n",
       "| <!--/--> | CITY &lt;fct&gt; | COUNTRY &lt;fct&gt; | BICYCLES &lt;int&gt; |\n",
       "|---|---|---|---|\n",
       "| 1 | Tirana | Albania | 200 |\n",
       "\n"
      ],
      "text/plain": [
       "  CITY   COUNTRY BICYCLES\n",
       "1 Tirana Albania 200     "
      ]
     },
     "metadata": {},
     "output_type": "display_data"
    },
    {
     "data": {
      "text/html": [
       "<table>\n",
       "<caption>A data.frame: 1 × 5</caption>\n",
       "<thead>\n",
       "\t<tr><th></th><th scope=col>CITY</th><th scope=col>COUNTRY</th><th scope=col>LAT</th><th scope=col>LNG</th><th scope=col>POPULATION</th></tr>\n",
       "\t<tr><th></th><th scope=col>&lt;fct&gt;</th><th scope=col>&lt;fct&gt;</th><th scope=col>&lt;dbl&gt;</th><th scope=col>&lt;dbl&gt;</th><th scope=col>&lt;int&gt;</th></tr>\n",
       "</thead>\n",
       "<tbody>\n",
       "\t<tr><th scope=row>1</th><td>Tokyo</td><td>Japan</td><td>35.68</td><td>139.69</td><td>37977000</td></tr>\n",
       "</tbody>\n",
       "</table>\n"
      ],
      "text/latex": [
       "A data.frame: 1 × 5\n",
       "\\begin{tabular}{r|lllll}\n",
       "  & CITY & COUNTRY & LAT & LNG & POPULATION\\\\\n",
       "  & <fct> & <fct> & <dbl> & <dbl> & <int>\\\\\n",
       "\\hline\n",
       "\t1 & Tokyo & Japan & 35.68 & 139.69 & 37977000\\\\\n",
       "\\end{tabular}\n"
      ],
      "text/markdown": [
       "\n",
       "A data.frame: 1 × 5\n",
       "\n",
       "| <!--/--> | CITY &lt;fct&gt; | COUNTRY &lt;fct&gt; | LAT &lt;dbl&gt; | LNG &lt;dbl&gt; | POPULATION &lt;int&gt; |\n",
       "|---|---|---|---|---|---|\n",
       "| 1 | Tokyo | Japan | 35.68 | 139.69 | 37977000 |\n",
       "\n"
      ],
      "text/plain": [
       "  CITY  COUNTRY LAT   LNG    POPULATION\n",
       "1 Tokyo Japan   35.68 139.69 37977000  "
      ]
     },
     "metadata": {},
     "output_type": "display_data"
    }
   ],
   "source": [
    "# provide your solution here\n",
    "sqlQuery(conn, \"SELECT* FROM WORLD_CITIES, BIKE_SHARING_SYSTEMS WHERE WORLD_CITIES.CITY = BIKE_SHARING_SYSTEMS.CITY LIMIT 6;\")\n",
    "sqlQuery(conn, \"SELECT  CITY,COUNTRY,BICYCLES FROM  BIKE_SHARING_SYSTEMS  LIMIT 1;\")\n",
    "sqlQuery(conn, \"SELECT  CITY,COUNTRY,LAT,LNG,POPULATION FROM WORLD_CITIES  LIMIT 1;\")"
   ]
  },
  {
   "cell_type": "markdown",
   "metadata": {},
   "source": [
    "## Task 11 - Find all city names and coordinates with comparable bike scale to Seoul's bike sharing system\n",
    "\n",
    "#### Find all cities with total bike counts between 15000 and 20000. Return the city and country names, plus the coordinates (LAT, LNG), population, and number of bicycles for each city.\n",
    "\n",
    "Later we will ask you to visualize these similar cities on leaflet, with some weather data.\n"
   ]
  },
  {
   "cell_type": "markdown",
   "metadata": {},
   "source": [
    "### Solution 11\n"
   ]
  },
  {
   "cell_type": "code",
   "execution_count": 78,
   "metadata": {},
   "outputs": [
    {
     "data": {
      "text/html": [
       "<table>\n",
       "<caption>A data.frame: 4 × 6</caption>\n",
       "<thead>\n",
       "\t<tr><th></th><th scope=col>CITY</th><th scope=col>COUNTRY</th><th scope=col>LAT</th><th scope=col>LNG</th><th scope=col>POPULATION</th><th scope=col>BICYCLES</th></tr>\n",
       "\t<tr><th></th><th scope=col>&lt;fct&gt;</th><th scope=col>&lt;fct&gt;</th><th scope=col>&lt;dbl&gt;</th><th scope=col>&lt;dbl&gt;</th><th scope=col>&lt;int&gt;</th><th scope=col>&lt;int&gt;</th></tr>\n",
       "</thead>\n",
       "<tbody>\n",
       "\t<tr><th scope=row>1</th><td>Tirana</td><td>Albania</td><td>35.68</td><td>139.69</td><td>37977000</td><td>200</td></tr>\n",
       "\t<tr><th scope=row>2</th><td>Tirana</td><td>Albania</td><td>-6.21</td><td>106.84</td><td>34540000</td><td>200</td></tr>\n",
       "\t<tr><th scope=row>3</th><td>Tirana</td><td>Albania</td><td>28.66</td><td> 77.23</td><td>29617000</td><td>200</td></tr>\n",
       "\t<tr><th scope=row>4</th><td>Tirana</td><td>Albania</td><td>18.96</td><td> 72.83</td><td>23355000</td><td>200</td></tr>\n",
       "</tbody>\n",
       "</table>\n"
      ],
      "text/latex": [
       "A data.frame: 4 × 6\n",
       "\\begin{tabular}{r|llllll}\n",
       "  & CITY & COUNTRY & LAT & LNG & POPULATION & BICYCLES\\\\\n",
       "  & <fct> & <fct> & <dbl> & <dbl> & <int> & <int>\\\\\n",
       "\\hline\n",
       "\t1 & Tirana & Albania & 35.68 & 139.69 & 37977000 & 200\\\\\n",
       "\t2 & Tirana & Albania & -6.21 & 106.84 & 34540000 & 200\\\\\n",
       "\t3 & Tirana & Albania & 28.66 &  77.23 & 29617000 & 200\\\\\n",
       "\t4 & Tirana & Albania & 18.96 &  72.83 & 23355000 & 200\\\\\n",
       "\\end{tabular}\n"
      ],
      "text/markdown": [
       "\n",
       "A data.frame: 4 × 6\n",
       "\n",
       "| <!--/--> | CITY &lt;fct&gt; | COUNTRY &lt;fct&gt; | LAT &lt;dbl&gt; | LNG &lt;dbl&gt; | POPULATION &lt;int&gt; | BICYCLES &lt;int&gt; |\n",
       "|---|---|---|---|---|---|---|\n",
       "| 1 | Tirana | Albania | 35.68 | 139.69 | 37977000 | 200 |\n",
       "| 2 | Tirana | Albania | -6.21 | 106.84 | 34540000 | 200 |\n",
       "| 3 | Tirana | Albania | 28.66 |  77.23 | 29617000 | 200 |\n",
       "| 4 | Tirana | Albania | 18.96 |  72.83 | 23355000 | 200 |\n",
       "\n"
      ],
      "text/plain": [
       "  CITY   COUNTRY LAT   LNG    POPULATION BICYCLES\n",
       "1 Tirana Albania 35.68 139.69 37977000   200     \n",
       "2 Tirana Albania -6.21 106.84 34540000   200     \n",
       "3 Tirana Albania 28.66  77.23 29617000   200     \n",
       "4 Tirana Albania 18.96  72.83 23355000   200     "
      ]
     },
     "metadata": {},
     "output_type": "display_data"
    }
   ],
   "source": [
    "# provide your solution here\n",
    "sqlQuery(conn, \"SELECT B.CITY,B.COUNTRY, LAT,LNG,POPULATION , B.BICYCLES FROM  WORLD_CITIES, BIKE_SHARING_SYSTEMS B LIMIT 4;\")"
   ]
  },
  {
   "cell_type": "code",
   "execution_count": 80,
   "metadata": {},
   "outputs": [
    {
     "data": {
      "text/html": [
       "<style>\n",
       ".list-inline {list-style: none; margin:0; padding: 0}\n",
       ".list-inline>li {display: inline-block}\n",
       ".list-inline>li:not(:last-child)::after {content: \"\\00b7\"; padding: 0 .5ex}\n",
       "</style>\n",
       "<ol class=list-inline><li><span style=white-space:pre-wrap>'42601 -104 [IBM][CLI Driver][DB2/LINUXX8664] SQL0104N  An unexpected token \"&lt;=\" was found following \"B.BIYCLES&gt;=15000 AND\".  Expected tokens may include:  \"&lt;space&gt;\".  SQLSTATE=42601\\n'</span></li><li><span style=white-space:pre-wrap>'[RODBC] ERROR: Could not SQLExecDirect \\'SELECT B.CITY,B.COUNTRY, LAT,LNG,POPULATION , B.BICYCLES FROM  WORLD_CITIES, BIKE_SHARING_SYSTEMS B \\nWHERE B.BIYCLES&gt;=15000 AND &lt;=20000 LIMIT 6;\\''</span></li></ol>\n"
      ],
      "text/latex": [
       "\\begin{enumerate*}\n",
       "\\item '42601 -104 {[}IBM{]}{[}CLI Driver{]}{[}DB2/LINUXX8664{]} SQL0104N  An unexpected token \"<=\" was found following \"B.BIYCLES>=15000 AND\".  Expected tokens may include:  \"<space>\".  SQLSTATE=42601\\textbackslash{}n'\n",
       "\\item '{[}RODBC{]} ERROR: Could not SQLExecDirect \\textbackslash{}'SELECT B.CITY,B.COUNTRY, LAT,LNG,POPULATION , B.BICYCLES FROM  WORLD\\_CITIES, BIKE\\_SHARING\\_SYSTEMS B \\textbackslash{}nWHERE B.BIYCLES>=15000 AND <=20000 LIMIT 6;\\textbackslash{}''\n",
       "\\end{enumerate*}\n"
      ],
      "text/markdown": [
       "1. <span style=white-space:pre-wrap>'42601 -104 [IBM][CLI Driver][DB2/LINUXX8664] SQL0104N  An unexpected token \"&lt;=\" was found following \"B.BIYCLES&gt;=15000 AND\".  Expected tokens may include:  \"&lt;space&gt;\".  SQLSTATE=42601\\n'</span>\n",
       "2. <span style=white-space:pre-wrap>'[RODBC] ERROR: Could not SQLExecDirect \\'SELECT B.CITY,B.COUNTRY, LAT,LNG,POPULATION , B.BICYCLES FROM  WORLD_CITIES, BIKE_SHARING_SYSTEMS B \\nWHERE B.BIYCLES&gt;=15000 AND &lt;=20000 LIMIT 6;\\''</span>\n",
       "\n",
       "\n"
      ],
      "text/plain": [
       "[1] \"42601 -104 [IBM][CLI Driver][DB2/LINUXX8664] SQL0104N  An unexpected token \\\"<=\\\" was found following \\\"B.BIYCLES>=15000 AND\\\".  Expected tokens may include:  \\\"<space>\\\".  SQLSTATE=42601\\n\"\n",
       "[2] \"[RODBC] ERROR: Could not SQLExecDirect 'SELECT B.CITY,B.COUNTRY, LAT,LNG,POPULATION , B.BICYCLES FROM  WORLD_CITIES, BIKE_SHARING_SYSTEMS B \\nWHERE B.BIYCLES>=15000 AND <=20000 LIMIT 6;'\"   "
      ]
     },
     "metadata": {},
     "output_type": "display_data"
    }
   ],
   "source": [
    "sqlQuery(conn, \"SELECT B.CITY,B.COUNTRY, LAT,LNG,POPULATION , B.BICYCLES FROM  WORLD_CITIES, BIKE_SHARING_SYSTEMS B \n",
    "WHERE B.BIYCLES>=15000 AND <=20000 LIMIT 6;\")"
   ]
  },
  {
   "cell_type": "code",
   "execution_count": 98,
   "metadata": {},
   "outputs": [
    {
     "data": {
      "text/html": [
       "<table>\n",
       "<caption>A data.frame: 0 × 6</caption>\n",
       "<thead>\n",
       "\t<tr><th scope=col>CITY</th><th scope=col>COUNTRY</th><th scope=col>LAT</th><th scope=col>LNG</th><th scope=col>POPULATION</th><th scope=col>BICYCLES</th></tr>\n",
       "\t<tr><th scope=col>&lt;chr&gt;</th><th scope=col>&lt;chr&gt;</th><th scope=col>&lt;chr&gt;</th><th scope=col>&lt;chr&gt;</th><th scope=col>&lt;chr&gt;</th><th scope=col>&lt;chr&gt;</th></tr>\n",
       "</thead>\n",
       "<tbody>\n",
       "</tbody>\n",
       "</table>\n"
      ],
      "text/latex": [
       "A data.frame: 0 × 6\n",
       "\\begin{tabular}{llllll}\n",
       " CITY & COUNTRY & LAT & LNG & POPULATION & BICYCLES\\\\\n",
       " <chr> & <chr> & <chr> & <chr> & <chr> & <chr>\\\\\n",
       "\\hline\n",
       "\\end{tabular}\n"
      ],
      "text/markdown": [
       "\n",
       "A data.frame: 0 × 6\n",
       "\n",
       "| CITY &lt;chr&gt; | COUNTRY &lt;chr&gt; | LAT &lt;chr&gt; | LNG &lt;chr&gt; | POPULATION &lt;chr&gt; | BICYCLES &lt;chr&gt; |\n",
       "|---|---|---|---|---|---|\n",
       "\n"
      ],
      "text/plain": [
       "     CITY COUNTRY LAT LNG POPULATION BICYCLES"
      ]
     },
     "metadata": {},
     "output_type": "display_data"
    }
   ],
   "source": [
    "sqlQuery(conn, \"SELECT B.CITY, B.COUNTRY, LAT, LNG, POPULATION, B.BICYCLES FROM WORLD_CITIES, BIKE_SHARING_SYSTEMS B  \n",
    "           WHERE B.BICYCLES = (SELECT (B.BICYCLES>15000 ) FROM BIKE_SHARING_SYSTEMS B) LIMIT 6;\")\n"
   ]
  },
  {
   "cell_type": "code",
   "execution_count": null,
   "metadata": {},
   "outputs": [],
   "source": [
    "close(conn)"
   ]
  },
  {
   "cell_type": "markdown",
   "metadata": {},
   "source": [
    "## Author(s)\n",
    "\n",
    "<h4> Jeff Grossman </h4>\n",
    "\n",
    "## Contributor(s)\n",
    "\n",
    "<h4> Yan Luo, Rav Ahuja </h4>\n",
    "\n",
    "## Change log\n",
    "\n",
    "| Date       | Version | Changed by    | Change Description                  |\n",
    "| ---------- | ------- | ------------- | ----------------------------------- |\n",
    "| 2021-05-04 | 0.2     | Jeff Grossman | Finalize                            |\n",
    "| 2021-04-22 | 0.2     | Jeff Grossman | Update as per peer review           |\n",
    "| 2021-04-10 | 0.2     | Jeff Grossman | Add data sources and implicit joins |\n",
    "| 2021-04-05 | 0.1     | Jeff Grossman | Start content creation              |\n",
    "\n",
    "## <h3 align=\"center\"> © IBM Corporation 2021. All rights reserved. <h3/>\n"
   ]
  },
  {
   "cell_type": "code",
   "execution_count": null,
   "metadata": {},
   "outputs": [],
   "source": []
  }
 ],
 "metadata": {
  "kernelspec": {
   "display_name": "R",
   "language": "R",
   "name": "conda-env-r-r"
  },
  "language_info": {
   "codemirror_mode": "r",
   "file_extension": ".r",
   "mimetype": "text/x-r-source",
   "name": "R",
   "pygments_lexer": "r",
   "version": "3.5.1"
  },
  "widgets": {
   "state": {},
   "version": "1.1.2"
  }
 },
 "nbformat": 4,
 "nbformat_minor": 4
}
